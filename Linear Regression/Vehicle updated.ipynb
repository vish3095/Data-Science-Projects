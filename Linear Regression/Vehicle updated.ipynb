{
 "cells": [
  {
   "cell_type": "code",
   "execution_count": 1,
   "id": "b1bb61b5",
   "metadata": {},
   "outputs": [],
   "source": [
    "import numpy as np\n",
    "import pandas as pd\n",
    "import matplotlib.pyplot as plt\n",
    "import seaborn as sns"
   ]
  },
  {
   "cell_type": "code",
   "execution_count": 2,
   "id": "91f7f40c",
   "metadata": {},
   "outputs": [
    {
     "data": {
      "text/html": [
       "<div>\n",
       "<style scoped>\n",
       "    .dataframe tbody tr th:only-of-type {\n",
       "        vertical-align: middle;\n",
       "    }\n",
       "\n",
       "    .dataframe tbody tr th {\n",
       "        vertical-align: top;\n",
       "    }\n",
       "\n",
       "    .dataframe thead th {\n",
       "        text-align: right;\n",
       "    }\n",
       "</style>\n",
       "<table border=\"1\" class=\"dataframe\">\n",
       "  <thead>\n",
       "    <tr style=\"text-align: right;\">\n",
       "      <th></th>\n",
       "      <th>origin</th>\n",
       "      <th>cylinders</th>\n",
       "      <th>displacement</th>\n",
       "      <th>horsepower</th>\n",
       "      <th>weight</th>\n",
       "      <th>acceleration</th>\n",
       "      <th>year</th>\n",
       "      <th>name</th>\n",
       "      <th>Kilometer_per_liter</th>\n",
       "    </tr>\n",
       "  </thead>\n",
       "  <tbody>\n",
       "    <tr>\n",
       "      <th>0</th>\n",
       "      <td>1</td>\n",
       "      <td>8</td>\n",
       "      <td>307.0</td>\n",
       "      <td>130.0</td>\n",
       "      <td>3504</td>\n",
       "      <td>12.0</td>\n",
       "      <td>1970</td>\n",
       "      <td>chevrolet chevelle malibu</td>\n",
       "      <td>7.652587</td>\n",
       "    </tr>\n",
       "    <tr>\n",
       "      <th>1</th>\n",
       "      <td>1</td>\n",
       "      <td>8</td>\n",
       "      <td>350.0</td>\n",
       "      <td>165.0</td>\n",
       "      <td>3693</td>\n",
       "      <td>11.5</td>\n",
       "      <td>1970</td>\n",
       "      <td>buick skylark 320</td>\n",
       "      <td>6.377156</td>\n",
       "    </tr>\n",
       "    <tr>\n",
       "      <th>2</th>\n",
       "      <td>1</td>\n",
       "      <td>8</td>\n",
       "      <td>318.0</td>\n",
       "      <td>150.0</td>\n",
       "      <td>3436</td>\n",
       "      <td>11.0</td>\n",
       "      <td>1970</td>\n",
       "      <td>plymouth satellite</td>\n",
       "      <td>7.652587</td>\n",
       "    </tr>\n",
       "    <tr>\n",
       "      <th>3</th>\n",
       "      <td>1</td>\n",
       "      <td>8</td>\n",
       "      <td>304.0</td>\n",
       "      <td>150.0</td>\n",
       "      <td>3433</td>\n",
       "      <td>12.0</td>\n",
       "      <td>1970</td>\n",
       "      <td>amc rebel sst</td>\n",
       "      <td>6.802299</td>\n",
       "    </tr>\n",
       "    <tr>\n",
       "      <th>4</th>\n",
       "      <td>1</td>\n",
       "      <td>8</td>\n",
       "      <td>302.0</td>\n",
       "      <td>140.0</td>\n",
       "      <td>3449</td>\n",
       "      <td>10.5</td>\n",
       "      <td>1970</td>\n",
       "      <td>ford torino</td>\n",
       "      <td>7.227443</td>\n",
       "    </tr>\n",
       "    <tr>\n",
       "      <th>...</th>\n",
       "      <td>...</td>\n",
       "      <td>...</td>\n",
       "      <td>...</td>\n",
       "      <td>...</td>\n",
       "      <td>...</td>\n",
       "      <td>...</td>\n",
       "      <td>...</td>\n",
       "      <td>...</td>\n",
       "      <td>...</td>\n",
       "    </tr>\n",
       "    <tr>\n",
       "      <th>393</th>\n",
       "      <td>1</td>\n",
       "      <td>4</td>\n",
       "      <td>140.0</td>\n",
       "      <td>86.0</td>\n",
       "      <td>2790</td>\n",
       "      <td>15.6</td>\n",
       "      <td>1982</td>\n",
       "      <td>ford mustang gl</td>\n",
       "      <td>11.478880</td>\n",
       "    </tr>\n",
       "    <tr>\n",
       "      <th>394</th>\n",
       "      <td>2</td>\n",
       "      <td>4</td>\n",
       "      <td>97.0</td>\n",
       "      <td>52.0</td>\n",
       "      <td>2130</td>\n",
       "      <td>24.6</td>\n",
       "      <td>1982</td>\n",
       "      <td>vw pickup</td>\n",
       "      <td>18.706323</td>\n",
       "    </tr>\n",
       "    <tr>\n",
       "      <th>395</th>\n",
       "      <td>1</td>\n",
       "      <td>4</td>\n",
       "      <td>135.0</td>\n",
       "      <td>84.0</td>\n",
       "      <td>2295</td>\n",
       "      <td>11.6</td>\n",
       "      <td>1982</td>\n",
       "      <td>dodge rampage</td>\n",
       "      <td>13.604599</td>\n",
       "    </tr>\n",
       "    <tr>\n",
       "      <th>396</th>\n",
       "      <td>1</td>\n",
       "      <td>4</td>\n",
       "      <td>120.0</td>\n",
       "      <td>79.0</td>\n",
       "      <td>2625</td>\n",
       "      <td>18.6</td>\n",
       "      <td>1982</td>\n",
       "      <td>ford ranger</td>\n",
       "      <td>11.904024</td>\n",
       "    </tr>\n",
       "    <tr>\n",
       "      <th>397</th>\n",
       "      <td>1</td>\n",
       "      <td>4</td>\n",
       "      <td>119.0</td>\n",
       "      <td>82.0</td>\n",
       "      <td>2720</td>\n",
       "      <td>19.4</td>\n",
       "      <td>1982</td>\n",
       "      <td>chevy s-10</td>\n",
       "      <td>13.179455</td>\n",
       "    </tr>\n",
       "  </tbody>\n",
       "</table>\n",
       "<p>398 rows × 9 columns</p>\n",
       "</div>"
      ],
      "text/plain": [
       "     origin  cylinders  displacement  horsepower  weight  acceleration  year  \\\n",
       "0         1          8         307.0       130.0    3504          12.0  1970   \n",
       "1         1          8         350.0       165.0    3693          11.5  1970   \n",
       "2         1          8         318.0       150.0    3436          11.0  1970   \n",
       "3         1          8         304.0       150.0    3433          12.0  1970   \n",
       "4         1          8         302.0       140.0    3449          10.5  1970   \n",
       "..      ...        ...           ...         ...     ...           ...   ...   \n",
       "393       1          4         140.0        86.0    2790          15.6  1982   \n",
       "394       2          4          97.0        52.0    2130          24.6  1982   \n",
       "395       1          4         135.0        84.0    2295          11.6  1982   \n",
       "396       1          4         120.0        79.0    2625          18.6  1982   \n",
       "397       1          4         119.0        82.0    2720          19.4  1982   \n",
       "\n",
       "                          name  Kilometer_per_liter  \n",
       "0    chevrolet chevelle malibu             7.652587  \n",
       "1            buick skylark 320             6.377156  \n",
       "2           plymouth satellite             7.652587  \n",
       "3                amc rebel sst             6.802299  \n",
       "4                  ford torino             7.227443  \n",
       "..                         ...                  ...  \n",
       "393            ford mustang gl            11.478880  \n",
       "394                  vw pickup            18.706323  \n",
       "395              dodge rampage            13.604599  \n",
       "396                ford ranger            11.904024  \n",
       "397                 chevy s-10            13.179455  \n",
       "\n",
       "[398 rows x 9 columns]"
      ]
     },
     "execution_count": 2,
     "metadata": {},
     "output_type": "execute_result"
    }
   ],
   "source": [
    "df=pd.read_csv(\"data.csv\")\n",
    "df"
   ]
  },
  {
   "cell_type": "code",
   "execution_count": 3,
   "id": "632ac410",
   "metadata": {},
   "outputs": [
    {
     "name": "stdout",
     "output_type": "stream",
     "text": [
      "<class 'pandas.core.frame.DataFrame'>\n",
      "RangeIndex: 398 entries, 0 to 397\n",
      "Data columns (total 9 columns):\n",
      " #   Column               Non-Null Count  Dtype  \n",
      "---  ------               --------------  -----  \n",
      " 0   origin               398 non-null    int64  \n",
      " 1   cylinders            398 non-null    int64  \n",
      " 2   displacement         398 non-null    float64\n",
      " 3   horsepower           392 non-null    float64\n",
      " 4   weight               398 non-null    int64  \n",
      " 5   acceleration         398 non-null    float64\n",
      " 6   year                 398 non-null    int64  \n",
      " 7   name                 398 non-null    object \n",
      " 8   Kilometer_per_liter  398 non-null    float64\n",
      "dtypes: float64(4), int64(4), object(1)\n",
      "memory usage: 28.1+ KB\n"
     ]
    }
   ],
   "source": [
    "df.info()"
   ]
  },
  {
   "cell_type": "code",
   "execution_count": 4,
   "id": "18f3384e",
   "metadata": {},
   "outputs": [
    {
     "data": {
      "text/plain": [
       "origin                 0\n",
       "cylinders              0\n",
       "displacement           0\n",
       "horsepower             6\n",
       "weight                 0\n",
       "acceleration           0\n",
       "year                   0\n",
       "name                   0\n",
       "Kilometer_per_liter    0\n",
       "dtype: int64"
      ]
     },
     "execution_count": 4,
     "metadata": {},
     "output_type": "execute_result"
    }
   ],
   "source": [
    "df.isna().sum()  #to check whetehr there are null in horsepower"
   ]
  },
  {
   "cell_type": "markdown",
   "id": "13170246",
   "metadata": {},
   "source": [
    "### we know that pandas is infering name is object and it is categorical but we know orgin and cylinder are both categorical so we need to convert orgin to category"
   ]
  },
  {
   "cell_type": "code",
   "execution_count": 5,
   "id": "5b976dd9",
   "metadata": {},
   "outputs": [
    {
     "name": "stdout",
     "output_type": "stream",
     "text": [
      "<class 'pandas.core.frame.DataFrame'>\n",
      "RangeIndex: 398 entries, 0 to 397\n",
      "Data columns (total 9 columns):\n",
      " #   Column               Non-Null Count  Dtype   \n",
      "---  ------               --------------  -----   \n",
      " 0   origin               398 non-null    category\n",
      " 1   cylinders            398 non-null    int64   \n",
      " 2   displacement         398 non-null    float64 \n",
      " 3   horsepower           392 non-null    float64 \n",
      " 4   weight               398 non-null    int64   \n",
      " 5   acceleration         398 non-null    float64 \n",
      " 6   year                 398 non-null    int64   \n",
      " 7   name                 398 non-null    object  \n",
      " 8   Kilometer_per_liter  398 non-null    float64 \n",
      "dtypes: category(1), float64(4), int64(3), object(1)\n",
      "memory usage: 25.5+ KB\n"
     ]
    }
   ],
   "source": [
    "df.origin = df.origin.astype(\"category\")\n",
    "df.info()"
   ]
  },
  {
   "cell_type": "code",
   "execution_count": 6,
   "id": "564d32ce",
   "metadata": {},
   "outputs": [
    {
     "name": "stdout",
     "output_type": "stream",
     "text": [
      "<class 'pandas.core.frame.DataFrame'>\n",
      "RangeIndex: 398 entries, 0 to 397\n",
      "Data columns (total 9 columns):\n",
      " #   Column               Non-Null Count  Dtype   \n",
      "---  ------               --------------  -----   \n",
      " 0   origin               398 non-null    category\n",
      " 1   cylinders            398 non-null    category\n",
      " 2   displacement         398 non-null    float64 \n",
      " 3   horsepower           392 non-null    float64 \n",
      " 4   weight               398 non-null    int64   \n",
      " 5   acceleration         398 non-null    float64 \n",
      " 6   year                 398 non-null    int64   \n",
      " 7   name                 398 non-null    object  \n",
      " 8   Kilometer_per_liter  398 non-null    float64 \n",
      "dtypes: category(2), float64(4), int64(2), object(1)\n",
      "memory usage: 23.0+ KB\n"
     ]
    }
   ],
   "source": [
    "df.cylinders = df.cylinders.astype(\"category\")\n",
    "df.info()"
   ]
  },
  {
   "cell_type": "markdown",
   "id": "689fc4ae",
   "metadata": {},
   "source": [
    "### to drop name and year colunns( coz name is unique in each instant and year does not affect the kmpl)\n"
   ]
  },
  {
   "cell_type": "code",
   "execution_count": 7,
   "id": "3b509f48",
   "metadata": {},
   "outputs": [
    {
     "data": {
      "text/html": [
       "<div>\n",
       "<style scoped>\n",
       "    .dataframe tbody tr th:only-of-type {\n",
       "        vertical-align: middle;\n",
       "    }\n",
       "\n",
       "    .dataframe tbody tr th {\n",
       "        vertical-align: top;\n",
       "    }\n",
       "\n",
       "    .dataframe thead th {\n",
       "        text-align: right;\n",
       "    }\n",
       "</style>\n",
       "<table border=\"1\" class=\"dataframe\">\n",
       "  <thead>\n",
       "    <tr style=\"text-align: right;\">\n",
       "      <th></th>\n",
       "      <th>origin</th>\n",
       "      <th>cylinders</th>\n",
       "      <th>displacement</th>\n",
       "      <th>horsepower</th>\n",
       "      <th>weight</th>\n",
       "      <th>acceleration</th>\n",
       "      <th>Kilometer_per_liter</th>\n",
       "    </tr>\n",
       "  </thead>\n",
       "  <tbody>\n",
       "    <tr>\n",
       "      <th>0</th>\n",
       "      <td>1</td>\n",
       "      <td>8</td>\n",
       "      <td>307.0</td>\n",
       "      <td>130.0</td>\n",
       "      <td>3504</td>\n",
       "      <td>12.0</td>\n",
       "      <td>7.652587</td>\n",
       "    </tr>\n",
       "    <tr>\n",
       "      <th>1</th>\n",
       "      <td>1</td>\n",
       "      <td>8</td>\n",
       "      <td>350.0</td>\n",
       "      <td>165.0</td>\n",
       "      <td>3693</td>\n",
       "      <td>11.5</td>\n",
       "      <td>6.377156</td>\n",
       "    </tr>\n",
       "    <tr>\n",
       "      <th>2</th>\n",
       "      <td>1</td>\n",
       "      <td>8</td>\n",
       "      <td>318.0</td>\n",
       "      <td>150.0</td>\n",
       "      <td>3436</td>\n",
       "      <td>11.0</td>\n",
       "      <td>7.652587</td>\n",
       "    </tr>\n",
       "    <tr>\n",
       "      <th>3</th>\n",
       "      <td>1</td>\n",
       "      <td>8</td>\n",
       "      <td>304.0</td>\n",
       "      <td>150.0</td>\n",
       "      <td>3433</td>\n",
       "      <td>12.0</td>\n",
       "      <td>6.802299</td>\n",
       "    </tr>\n",
       "    <tr>\n",
       "      <th>4</th>\n",
       "      <td>1</td>\n",
       "      <td>8</td>\n",
       "      <td>302.0</td>\n",
       "      <td>140.0</td>\n",
       "      <td>3449</td>\n",
       "      <td>10.5</td>\n",
       "      <td>7.227443</td>\n",
       "    </tr>\n",
       "    <tr>\n",
       "      <th>...</th>\n",
       "      <td>...</td>\n",
       "      <td>...</td>\n",
       "      <td>...</td>\n",
       "      <td>...</td>\n",
       "      <td>...</td>\n",
       "      <td>...</td>\n",
       "      <td>...</td>\n",
       "    </tr>\n",
       "    <tr>\n",
       "      <th>393</th>\n",
       "      <td>1</td>\n",
       "      <td>4</td>\n",
       "      <td>140.0</td>\n",
       "      <td>86.0</td>\n",
       "      <td>2790</td>\n",
       "      <td>15.6</td>\n",
       "      <td>11.478880</td>\n",
       "    </tr>\n",
       "    <tr>\n",
       "      <th>394</th>\n",
       "      <td>2</td>\n",
       "      <td>4</td>\n",
       "      <td>97.0</td>\n",
       "      <td>52.0</td>\n",
       "      <td>2130</td>\n",
       "      <td>24.6</td>\n",
       "      <td>18.706323</td>\n",
       "    </tr>\n",
       "    <tr>\n",
       "      <th>395</th>\n",
       "      <td>1</td>\n",
       "      <td>4</td>\n",
       "      <td>135.0</td>\n",
       "      <td>84.0</td>\n",
       "      <td>2295</td>\n",
       "      <td>11.6</td>\n",
       "      <td>13.604599</td>\n",
       "    </tr>\n",
       "    <tr>\n",
       "      <th>396</th>\n",
       "      <td>1</td>\n",
       "      <td>4</td>\n",
       "      <td>120.0</td>\n",
       "      <td>79.0</td>\n",
       "      <td>2625</td>\n",
       "      <td>18.6</td>\n",
       "      <td>11.904024</td>\n",
       "    </tr>\n",
       "    <tr>\n",
       "      <th>397</th>\n",
       "      <td>1</td>\n",
       "      <td>4</td>\n",
       "      <td>119.0</td>\n",
       "      <td>82.0</td>\n",
       "      <td>2720</td>\n",
       "      <td>19.4</td>\n",
       "      <td>13.179455</td>\n",
       "    </tr>\n",
       "  </tbody>\n",
       "</table>\n",
       "<p>398 rows × 7 columns</p>\n",
       "</div>"
      ],
      "text/plain": [
       "    origin cylinders  displacement  horsepower  weight  acceleration  \\\n",
       "0        1         8         307.0       130.0    3504          12.0   \n",
       "1        1         8         350.0       165.0    3693          11.5   \n",
       "2        1         8         318.0       150.0    3436          11.0   \n",
       "3        1         8         304.0       150.0    3433          12.0   \n",
       "4        1         8         302.0       140.0    3449          10.5   \n",
       "..     ...       ...           ...         ...     ...           ...   \n",
       "393      1         4         140.0        86.0    2790          15.6   \n",
       "394      2         4          97.0        52.0    2130          24.6   \n",
       "395      1         4         135.0        84.0    2295          11.6   \n",
       "396      1         4         120.0        79.0    2625          18.6   \n",
       "397      1         4         119.0        82.0    2720          19.4   \n",
       "\n",
       "     Kilometer_per_liter  \n",
       "0               7.652587  \n",
       "1               6.377156  \n",
       "2               7.652587  \n",
       "3               6.802299  \n",
       "4               7.227443  \n",
       "..                   ...  \n",
       "393            11.478880  \n",
       "394            18.706323  \n",
       "395            13.604599  \n",
       "396            11.904024  \n",
       "397            13.179455  \n",
       "\n",
       "[398 rows x 7 columns]"
      ]
     },
     "execution_count": 7,
     "metadata": {},
     "output_type": "execute_result"
    }
   ],
   "source": [
    "df1=df.drop(columns=['year','name'],axis=1)\n",
    "df1"
   ]
  },
  {
   "cell_type": "markdown",
   "id": "26aa402d",
   "metadata": {},
   "source": [
    "#### to remove the 6 NAN values in horse power(coz 6 values doesnt affect the whole distribution and it was gn as ? in data and we repleced it with NAN)"
   ]
  },
  {
   "cell_type": "code",
   "execution_count": 8,
   "id": "7be2c07f",
   "metadata": {},
   "outputs": [
    {
     "data": {
      "text/plain": [
       "Int64Index([32, 126, 330, 336, 354, 374], dtype='int64')"
      ]
     },
     "execution_count": 8,
     "metadata": {},
     "output_type": "execute_result"
    }
   ],
   "source": [
    "drop_NAN=df1[df1['horsepower'].isna()].index   #for dropping the NAn values\n",
    "drop_NAN"
   ]
  },
  {
   "cell_type": "code",
   "execution_count": 9,
   "id": "10e7f527",
   "metadata": {},
   "outputs": [
    {
     "data": {
      "text/html": [
       "<div>\n",
       "<style scoped>\n",
       "    .dataframe tbody tr th:only-of-type {\n",
       "        vertical-align: middle;\n",
       "    }\n",
       "\n",
       "    .dataframe tbody tr th {\n",
       "        vertical-align: top;\n",
       "    }\n",
       "\n",
       "    .dataframe thead th {\n",
       "        text-align: right;\n",
       "    }\n",
       "</style>\n",
       "<table border=\"1\" class=\"dataframe\">\n",
       "  <thead>\n",
       "    <tr style=\"text-align: right;\">\n",
       "      <th></th>\n",
       "      <th>origin</th>\n",
       "      <th>cylinders</th>\n",
       "      <th>displacement</th>\n",
       "      <th>horsepower</th>\n",
       "      <th>weight</th>\n",
       "      <th>acceleration</th>\n",
       "      <th>Kilometer_per_liter</th>\n",
       "    </tr>\n",
       "  </thead>\n",
       "  <tbody>\n",
       "    <tr>\n",
       "      <th>0</th>\n",
       "      <td>1</td>\n",
       "      <td>8</td>\n",
       "      <td>307.0</td>\n",
       "      <td>130.0</td>\n",
       "      <td>3504</td>\n",
       "      <td>12.0</td>\n",
       "      <td>7.652587</td>\n",
       "    </tr>\n",
       "    <tr>\n",
       "      <th>1</th>\n",
       "      <td>1</td>\n",
       "      <td>8</td>\n",
       "      <td>350.0</td>\n",
       "      <td>165.0</td>\n",
       "      <td>3693</td>\n",
       "      <td>11.5</td>\n",
       "      <td>6.377156</td>\n",
       "    </tr>\n",
       "    <tr>\n",
       "      <th>2</th>\n",
       "      <td>1</td>\n",
       "      <td>8</td>\n",
       "      <td>318.0</td>\n",
       "      <td>150.0</td>\n",
       "      <td>3436</td>\n",
       "      <td>11.0</td>\n",
       "      <td>7.652587</td>\n",
       "    </tr>\n",
       "    <tr>\n",
       "      <th>3</th>\n",
       "      <td>1</td>\n",
       "      <td>8</td>\n",
       "      <td>304.0</td>\n",
       "      <td>150.0</td>\n",
       "      <td>3433</td>\n",
       "      <td>12.0</td>\n",
       "      <td>6.802299</td>\n",
       "    </tr>\n",
       "    <tr>\n",
       "      <th>4</th>\n",
       "      <td>1</td>\n",
       "      <td>8</td>\n",
       "      <td>302.0</td>\n",
       "      <td>140.0</td>\n",
       "      <td>3449</td>\n",
       "      <td>10.5</td>\n",
       "      <td>7.227443</td>\n",
       "    </tr>\n",
       "    <tr>\n",
       "      <th>...</th>\n",
       "      <td>...</td>\n",
       "      <td>...</td>\n",
       "      <td>...</td>\n",
       "      <td>...</td>\n",
       "      <td>...</td>\n",
       "      <td>...</td>\n",
       "      <td>...</td>\n",
       "    </tr>\n",
       "    <tr>\n",
       "      <th>393</th>\n",
       "      <td>1</td>\n",
       "      <td>4</td>\n",
       "      <td>140.0</td>\n",
       "      <td>86.0</td>\n",
       "      <td>2790</td>\n",
       "      <td>15.6</td>\n",
       "      <td>11.478880</td>\n",
       "    </tr>\n",
       "    <tr>\n",
       "      <th>394</th>\n",
       "      <td>2</td>\n",
       "      <td>4</td>\n",
       "      <td>97.0</td>\n",
       "      <td>52.0</td>\n",
       "      <td>2130</td>\n",
       "      <td>24.6</td>\n",
       "      <td>18.706323</td>\n",
       "    </tr>\n",
       "    <tr>\n",
       "      <th>395</th>\n",
       "      <td>1</td>\n",
       "      <td>4</td>\n",
       "      <td>135.0</td>\n",
       "      <td>84.0</td>\n",
       "      <td>2295</td>\n",
       "      <td>11.6</td>\n",
       "      <td>13.604599</td>\n",
       "    </tr>\n",
       "    <tr>\n",
       "      <th>396</th>\n",
       "      <td>1</td>\n",
       "      <td>4</td>\n",
       "      <td>120.0</td>\n",
       "      <td>79.0</td>\n",
       "      <td>2625</td>\n",
       "      <td>18.6</td>\n",
       "      <td>11.904024</td>\n",
       "    </tr>\n",
       "    <tr>\n",
       "      <th>397</th>\n",
       "      <td>1</td>\n",
       "      <td>4</td>\n",
       "      <td>119.0</td>\n",
       "      <td>82.0</td>\n",
       "      <td>2720</td>\n",
       "      <td>19.4</td>\n",
       "      <td>13.179455</td>\n",
       "    </tr>\n",
       "  </tbody>\n",
       "</table>\n",
       "<p>392 rows × 7 columns</p>\n",
       "</div>"
      ],
      "text/plain": [
       "    origin cylinders  displacement  horsepower  weight  acceleration  \\\n",
       "0        1         8         307.0       130.0    3504          12.0   \n",
       "1        1         8         350.0       165.0    3693          11.5   \n",
       "2        1         8         318.0       150.0    3436          11.0   \n",
       "3        1         8         304.0       150.0    3433          12.0   \n",
       "4        1         8         302.0       140.0    3449          10.5   \n",
       "..     ...       ...           ...         ...     ...           ...   \n",
       "393      1         4         140.0        86.0    2790          15.6   \n",
       "394      2         4          97.0        52.0    2130          24.6   \n",
       "395      1         4         135.0        84.0    2295          11.6   \n",
       "396      1         4         120.0        79.0    2625          18.6   \n",
       "397      1         4         119.0        82.0    2720          19.4   \n",
       "\n",
       "     Kilometer_per_liter  \n",
       "0               7.652587  \n",
       "1               6.377156  \n",
       "2               7.652587  \n",
       "3               6.802299  \n",
       "4               7.227443  \n",
       "..                   ...  \n",
       "393            11.478880  \n",
       "394            18.706323  \n",
       "395            13.604599  \n",
       "396            11.904024  \n",
       "397            13.179455  \n",
       "\n",
       "[392 rows x 7 columns]"
      ]
     },
     "execution_count": 9,
     "metadata": {},
     "output_type": "execute_result"
    }
   ],
   "source": [
    "drop=df1.drop(index=drop_NAN,axis=0)\n",
    "drop"
   ]
  },
  {
   "cell_type": "markdown",
   "id": "30252150",
   "metadata": {},
   "source": [
    "#### drop is our final cleaned data with no missing values and no columns(name and year)\n",
    "#df = df.drop(index=df[df['horsepower']=='?'].index,axis=0) alternate way"
   ]
  },
  {
   "cell_type": "code",
   "execution_count": 41,
   "id": "d8033dbb",
   "metadata": {},
   "outputs": [
    {
     "data": {
      "text/plain": [
       "origin                 0\n",
       "cylinders              0\n",
       "displacement           0\n",
       "horsepower             0\n",
       "weight                 0\n",
       "acceleration           0\n",
       "Kilometer_per_liter    0\n",
       "dtype: int64"
      ]
     },
     "execution_count": 41,
     "metadata": {},
     "output_type": "execute_result"
    }
   ],
   "source": [
    "drop.isna().sum()   #drop is our final cleaned data with no missing values and no columns(name and year)"
   ]
  },
  {
   "cell_type": "markdown",
   "id": "7e0ea481",
   "metadata": {},
   "source": [
    "## We are finding correlation between 1 dependent and other numerical IDV to test linearity"
   ]
  },
  {
   "cell_type": "code",
   "execution_count": null,
   "id": "a12c0f0f",
   "metadata": {},
   "outputs": [],
   "source": []
  },
  {
   "cell_type": "code",
   "execution_count": null,
   "id": "dc0c24a7",
   "metadata": {},
   "outputs": [],
   "source": []
  },
  {
   "cell_type": "code",
   "execution_count": null,
   "id": "e1165859",
   "metadata": {},
   "outputs": [],
   "source": []
  },
  {
   "cell_type": "code",
   "execution_count": 44,
   "id": "7437b196",
   "metadata": {},
   "outputs": [
    {
     "data": {
      "text/html": [
       "<div>\n",
       "<style scoped>\n",
       "    .dataframe tbody tr th:only-of-type {\n",
       "        vertical-align: middle;\n",
       "    }\n",
       "\n",
       "    .dataframe tbody tr th {\n",
       "        vertical-align: top;\n",
       "    }\n",
       "\n",
       "    .dataframe thead th {\n",
       "        text-align: right;\n",
       "    }\n",
       "</style>\n",
       "<table border=\"1\" class=\"dataframe\">\n",
       "  <thead>\n",
       "    <tr style=\"text-align: right;\">\n",
       "      <th></th>\n",
       "      <th>displacement</th>\n",
       "      <th>horsepower</th>\n",
       "      <th>weight</th>\n",
       "      <th>acceleration</th>\n",
       "      <th>Kilometer_per_liter</th>\n",
       "    </tr>\n",
       "  </thead>\n",
       "  <tbody>\n",
       "    <tr>\n",
       "      <th>0</th>\n",
       "      <td>307.0</td>\n",
       "      <td>130.0</td>\n",
       "      <td>3504</td>\n",
       "      <td>12.0</td>\n",
       "      <td>7.652587</td>\n",
       "    </tr>\n",
       "    <tr>\n",
       "      <th>1</th>\n",
       "      <td>350.0</td>\n",
       "      <td>165.0</td>\n",
       "      <td>3693</td>\n",
       "      <td>11.5</td>\n",
       "      <td>6.377156</td>\n",
       "    </tr>\n",
       "    <tr>\n",
       "      <th>2</th>\n",
       "      <td>318.0</td>\n",
       "      <td>150.0</td>\n",
       "      <td>3436</td>\n",
       "      <td>11.0</td>\n",
       "      <td>7.652587</td>\n",
       "    </tr>\n",
       "    <tr>\n",
       "      <th>3</th>\n",
       "      <td>304.0</td>\n",
       "      <td>150.0</td>\n",
       "      <td>3433</td>\n",
       "      <td>12.0</td>\n",
       "      <td>6.802299</td>\n",
       "    </tr>\n",
       "    <tr>\n",
       "      <th>4</th>\n",
       "      <td>302.0</td>\n",
       "      <td>140.0</td>\n",
       "      <td>3449</td>\n",
       "      <td>10.5</td>\n",
       "      <td>7.227443</td>\n",
       "    </tr>\n",
       "    <tr>\n",
       "      <th>...</th>\n",
       "      <td>...</td>\n",
       "      <td>...</td>\n",
       "      <td>...</td>\n",
       "      <td>...</td>\n",
       "      <td>...</td>\n",
       "    </tr>\n",
       "    <tr>\n",
       "      <th>393</th>\n",
       "      <td>140.0</td>\n",
       "      <td>86.0</td>\n",
       "      <td>2790</td>\n",
       "      <td>15.6</td>\n",
       "      <td>11.478880</td>\n",
       "    </tr>\n",
       "    <tr>\n",
       "      <th>394</th>\n",
       "      <td>97.0</td>\n",
       "      <td>52.0</td>\n",
       "      <td>2130</td>\n",
       "      <td>24.6</td>\n",
       "      <td>18.706323</td>\n",
       "    </tr>\n",
       "    <tr>\n",
       "      <th>395</th>\n",
       "      <td>135.0</td>\n",
       "      <td>84.0</td>\n",
       "      <td>2295</td>\n",
       "      <td>11.6</td>\n",
       "      <td>13.604599</td>\n",
       "    </tr>\n",
       "    <tr>\n",
       "      <th>396</th>\n",
       "      <td>120.0</td>\n",
       "      <td>79.0</td>\n",
       "      <td>2625</td>\n",
       "      <td>18.6</td>\n",
       "      <td>11.904024</td>\n",
       "    </tr>\n",
       "    <tr>\n",
       "      <th>397</th>\n",
       "      <td>119.0</td>\n",
       "      <td>82.0</td>\n",
       "      <td>2720</td>\n",
       "      <td>19.4</td>\n",
       "      <td>13.179455</td>\n",
       "    </tr>\n",
       "  </tbody>\n",
       "</table>\n",
       "<p>392 rows × 5 columns</p>\n",
       "</div>"
      ],
      "text/plain": [
       "     displacement  horsepower  weight  acceleration  Kilometer_per_liter\n",
       "0           307.0       130.0    3504          12.0             7.652587\n",
       "1           350.0       165.0    3693          11.5             6.377156\n",
       "2           318.0       150.0    3436          11.0             7.652587\n",
       "3           304.0       150.0    3433          12.0             6.802299\n",
       "4           302.0       140.0    3449          10.5             7.227443\n",
       "..            ...         ...     ...           ...                  ...\n",
       "393         140.0        86.0    2790          15.6            11.478880\n",
       "394          97.0        52.0    2130          24.6            18.706323\n",
       "395         135.0        84.0    2295          11.6            13.604599\n",
       "396         120.0        79.0    2625          18.6            11.904024\n",
       "397         119.0        82.0    2720          19.4            13.179455\n",
       "\n",
       "[392 rows x 5 columns]"
      ]
     },
     "execution_count": 44,
     "metadata": {},
     "output_type": "execute_result"
    }
   ],
   "source": [
    "drop_category=drop.iloc[:,2:7]\n",
    "drop_category"
   ]
  },
  {
   "cell_type": "code",
   "execution_count": 45,
   "id": "f393b73e",
   "metadata": {},
   "outputs": [
    {
     "data": {
      "text/html": [
       "<div>\n",
       "<style scoped>\n",
       "    .dataframe tbody tr th:only-of-type {\n",
       "        vertical-align: middle;\n",
       "    }\n",
       "\n",
       "    .dataframe tbody tr th {\n",
       "        vertical-align: top;\n",
       "    }\n",
       "\n",
       "    .dataframe thead th {\n",
       "        text-align: right;\n",
       "    }\n",
       "</style>\n",
       "<table border=\"1\" class=\"dataframe\">\n",
       "  <thead>\n",
       "    <tr style=\"text-align: right;\">\n",
       "      <th></th>\n",
       "      <th>displacement</th>\n",
       "      <th>horsepower</th>\n",
       "      <th>weight</th>\n",
       "      <th>acceleration</th>\n",
       "      <th>Kilometer_per_liter</th>\n",
       "    </tr>\n",
       "  </thead>\n",
       "  <tbody>\n",
       "    <tr>\n",
       "      <th>displacement</th>\n",
       "      <td>1.000000</td>\n",
       "      <td>0.897257</td>\n",
       "      <td>0.932994</td>\n",
       "      <td>-0.543800</td>\n",
       "      <td>-0.805127</td>\n",
       "    </tr>\n",
       "    <tr>\n",
       "      <th>horsepower</th>\n",
       "      <td>0.897257</td>\n",
       "      <td>1.000000</td>\n",
       "      <td>0.864538</td>\n",
       "      <td>-0.689196</td>\n",
       "      <td>-0.778427</td>\n",
       "    </tr>\n",
       "    <tr>\n",
       "      <th>weight</th>\n",
       "      <td>0.932994</td>\n",
       "      <td>0.864538</td>\n",
       "      <td>1.000000</td>\n",
       "      <td>-0.416839</td>\n",
       "      <td>-0.832244</td>\n",
       "    </tr>\n",
       "    <tr>\n",
       "      <th>acceleration</th>\n",
       "      <td>-0.543800</td>\n",
       "      <td>-0.689196</td>\n",
       "      <td>-0.416839</td>\n",
       "      <td>1.000000</td>\n",
       "      <td>0.423329</td>\n",
       "    </tr>\n",
       "    <tr>\n",
       "      <th>Kilometer_per_liter</th>\n",
       "      <td>-0.805127</td>\n",
       "      <td>-0.778427</td>\n",
       "      <td>-0.832244</td>\n",
       "      <td>0.423329</td>\n",
       "      <td>1.000000</td>\n",
       "    </tr>\n",
       "  </tbody>\n",
       "</table>\n",
       "</div>"
      ],
      "text/plain": [
       "                     displacement  horsepower    weight  acceleration  \\\n",
       "displacement             1.000000    0.897257  0.932994     -0.543800   \n",
       "horsepower               0.897257    1.000000  0.864538     -0.689196   \n",
       "weight                   0.932994    0.864538  1.000000     -0.416839   \n",
       "acceleration            -0.543800   -0.689196 -0.416839      1.000000   \n",
       "Kilometer_per_liter     -0.805127   -0.778427 -0.832244      0.423329   \n",
       "\n",
       "                     Kilometer_per_liter  \n",
       "displacement                   -0.805127  \n",
       "horsepower                     -0.778427  \n",
       "weight                         -0.832244  \n",
       "acceleration                    0.423329  \n",
       "Kilometer_per_liter             1.000000  "
      ]
     },
     "execution_count": 45,
     "metadata": {},
     "output_type": "execute_result"
    }
   ],
   "source": [
    "drop_category.corr()"
   ]
  },
  {
   "cell_type": "code",
   "execution_count": 46,
   "id": "b33aa56f",
   "metadata": {},
   "outputs": [
    {
     "data": {
      "text/plain": [
       "<AxesSubplot:>"
      ]
     },
     "execution_count": 46,
     "metadata": {},
     "output_type": "execute_result"
    },
    {
     "data": {
      "image/png": "[encoded data removed]",
      "text/plain": [
       "<Figure size 432x288 with 2 Axes>"
      ]
     },
     "metadata": {
      "needs_background": "light"
     },
     "output_type": "display_data"
    }
   ],
   "source": [
    "sns.heatmap(drop_category.corr(),annot=True,cmap='viridis')"
   ]
  },
  {
   "cell_type": "code",
   "execution_count": 47,
   "id": "7d3bf482",
   "metadata": {},
   "outputs": [
    {
     "name": "stdout",
     "output_type": "stream",
     "text": [
      "displacement -0.8051269467334896 1.6606417936100068e-90\n",
      "Significant.\n",
      "\n",
      "horsepower -0.7784267839110669 7.031988957280459e-81\n",
      "Significant.\n",
      "\n",
      "weight -0.8322442148558429 6.015295897114415e-102\n",
      "Significant.\n",
      "\n",
      "acceleration 0.4233285368825963 1.778576132110161e-18\n",
      "Significant.\n",
      "\n",
      "Kilometer_per_liter 1.0 0.0\n",
      "Significant.\n",
      "\n"
     ]
    }
   ],
   "source": [
    "for i in drop_category:\n",
    "    r,p=pearsonr(drop_category.Kilometer_per_liter,drop_category[i])\n",
    "    print(i,r,p)\n",
    "    if p_value>0.05:\n",
    "        print(\"Not Significant.\")\n",
    "    else:\n",
    "        print(\"Significant.\")\n",
    "        print()"
   ]
  },
  {
   "cell_type": "markdown",
   "id": "1e0cece0",
   "metadata": {},
   "source": [
    "### Assigning dependent(y) and independent variable(2 cat and 4 numerical)=(x)"
   ]
  },
  {
   "cell_type": "code",
   "execution_count": 11,
   "id": "ed6f6f39",
   "metadata": {},
   "outputs": [
    {
     "data": {
      "text/html": [
       "<div>\n",
       "<style scoped>\n",
       "    .dataframe tbody tr th:only-of-type {\n",
       "        vertical-align: middle;\n",
       "    }\n",
       "\n",
       "    .dataframe tbody tr th {\n",
       "        vertical-align: top;\n",
       "    }\n",
       "\n",
       "    .dataframe thead th {\n",
       "        text-align: right;\n",
       "    }\n",
       "</style>\n",
       "<table border=\"1\" class=\"dataframe\">\n",
       "  <thead>\n",
       "    <tr style=\"text-align: right;\">\n",
       "      <th></th>\n",
       "      <th>origin</th>\n",
       "      <th>cylinders</th>\n",
       "      <th>displacement</th>\n",
       "      <th>horsepower</th>\n",
       "      <th>weight</th>\n",
       "      <th>acceleration</th>\n",
       "    </tr>\n",
       "  </thead>\n",
       "  <tbody>\n",
       "    <tr>\n",
       "      <th>0</th>\n",
       "      <td>1</td>\n",
       "      <td>8</td>\n",
       "      <td>307.0</td>\n",
       "      <td>130.0</td>\n",
       "      <td>3504</td>\n",
       "      <td>12.0</td>\n",
       "    </tr>\n",
       "    <tr>\n",
       "      <th>1</th>\n",
       "      <td>1</td>\n",
       "      <td>8</td>\n",
       "      <td>350.0</td>\n",
       "      <td>165.0</td>\n",
       "      <td>3693</td>\n",
       "      <td>11.5</td>\n",
       "    </tr>\n",
       "    <tr>\n",
       "      <th>2</th>\n",
       "      <td>1</td>\n",
       "      <td>8</td>\n",
       "      <td>318.0</td>\n",
       "      <td>150.0</td>\n",
       "      <td>3436</td>\n",
       "      <td>11.0</td>\n",
       "    </tr>\n",
       "    <tr>\n",
       "      <th>3</th>\n",
       "      <td>1</td>\n",
       "      <td>8</td>\n",
       "      <td>304.0</td>\n",
       "      <td>150.0</td>\n",
       "      <td>3433</td>\n",
       "      <td>12.0</td>\n",
       "    </tr>\n",
       "    <tr>\n",
       "      <th>4</th>\n",
       "      <td>1</td>\n",
       "      <td>8</td>\n",
       "      <td>302.0</td>\n",
       "      <td>140.0</td>\n",
       "      <td>3449</td>\n",
       "      <td>10.5</td>\n",
       "    </tr>\n",
       "    <tr>\n",
       "      <th>...</th>\n",
       "      <td>...</td>\n",
       "      <td>...</td>\n",
       "      <td>...</td>\n",
       "      <td>...</td>\n",
       "      <td>...</td>\n",
       "      <td>...</td>\n",
       "    </tr>\n",
       "    <tr>\n",
       "      <th>393</th>\n",
       "      <td>1</td>\n",
       "      <td>4</td>\n",
       "      <td>140.0</td>\n",
       "      <td>86.0</td>\n",
       "      <td>2790</td>\n",
       "      <td>15.6</td>\n",
       "    </tr>\n",
       "    <tr>\n",
       "      <th>394</th>\n",
       "      <td>2</td>\n",
       "      <td>4</td>\n",
       "      <td>97.0</td>\n",
       "      <td>52.0</td>\n",
       "      <td>2130</td>\n",
       "      <td>24.6</td>\n",
       "    </tr>\n",
       "    <tr>\n",
       "      <th>395</th>\n",
       "      <td>1</td>\n",
       "      <td>4</td>\n",
       "      <td>135.0</td>\n",
       "      <td>84.0</td>\n",
       "      <td>2295</td>\n",
       "      <td>11.6</td>\n",
       "    </tr>\n",
       "    <tr>\n",
       "      <th>396</th>\n",
       "      <td>1</td>\n",
       "      <td>4</td>\n",
       "      <td>120.0</td>\n",
       "      <td>79.0</td>\n",
       "      <td>2625</td>\n",
       "      <td>18.6</td>\n",
       "    </tr>\n",
       "    <tr>\n",
       "      <th>397</th>\n",
       "      <td>1</td>\n",
       "      <td>4</td>\n",
       "      <td>119.0</td>\n",
       "      <td>82.0</td>\n",
       "      <td>2720</td>\n",
       "      <td>19.4</td>\n",
       "    </tr>\n",
       "  </tbody>\n",
       "</table>\n",
       "<p>392 rows × 6 columns</p>\n",
       "</div>"
      ],
      "text/plain": [
       "    origin cylinders  displacement  horsepower  weight  acceleration\n",
       "0        1         8         307.0       130.0    3504          12.0\n",
       "1        1         8         350.0       165.0    3693          11.5\n",
       "2        1         8         318.0       150.0    3436          11.0\n",
       "3        1         8         304.0       150.0    3433          12.0\n",
       "4        1         8         302.0       140.0    3449          10.5\n",
       "..     ...       ...           ...         ...     ...           ...\n",
       "393      1         4         140.0        86.0    2790          15.6\n",
       "394      2         4          97.0        52.0    2130          24.6\n",
       "395      1         4         135.0        84.0    2295          11.6\n",
       "396      1         4         120.0        79.0    2625          18.6\n",
       "397      1         4         119.0        82.0    2720          19.4\n",
       "\n",
       "[392 rows x 6 columns]"
      ]
     },
     "execution_count": 11,
     "metadata": {},
     "output_type": "execute_result"
    }
   ],
   "source": [
    "#IDV=independent variables\n",
    "IDV=drop.iloc[:,0:6]\n",
    "IDV"
   ]
  },
  {
   "cell_type": "code",
   "execution_count": 12,
   "id": "20bbbc35",
   "metadata": {},
   "outputs": [
    {
     "data": {
      "text/plain": [
       "0       7.652587\n",
       "1       6.377156\n",
       "2       7.652587\n",
       "3       6.802299\n",
       "4       7.227443\n",
       "         ...    \n",
       "393    11.478880\n",
       "394    18.706323\n",
       "395    13.604599\n",
       "396    11.904024\n",
       "397    13.179455\n",
       "Name: Kilometer_per_liter, Length: 392, dtype: float64"
      ]
     },
     "execution_count": 12,
     "metadata": {},
     "output_type": "execute_result"
    }
   ],
   "source": [
    "#DV= dependent\n",
    "DV=drop.iloc[:,-1]\n",
    "DV"
   ]
  },
  {
   "cell_type": "code",
   "execution_count": 48,
   "id": "dbf0d74e",
   "metadata": {},
   "outputs": [
    {
     "data": {
      "text/plain": [
       "<AxesSubplot:xlabel='Kilometer_per_liter', ylabel='Density'>"
      ]
     },
     "execution_count": 48,
     "metadata": {},
     "output_type": "execute_result"
    },
    {
     "data": {
      "image/png": "[encoded data removed]",
      "text/plain": [
       "<Figure size 432x288 with 1 Axes>"
      ]
     },
     "metadata": {
      "needs_background": "light"
     },
     "output_type": "display_data"
    }
   ],
   "source": [
    "sns.kdeplot(DV)"
   ]
  },
  {
   "cell_type": "code",
   "execution_count": null,
   "id": "09b886e2",
   "metadata": {},
   "outputs": [],
   "source": [
    "s,p=shapiro(num)"
   ]
  },
  {
   "cell_type": "markdown",
   "id": "bb245b7d",
   "metadata": {},
   "source": [
    "### Applying Ttest to check linearity. we have 6 IDV and 1 DV we have to check each IDV with DV"
   ]
  },
  {
   "cell_type": "code",
   "execution_count": 13,
   "id": "39db89ef",
   "metadata": {},
   "outputs": [],
   "source": [
    "#apply T-test-- pearsonr is used to cal t test\n",
    "from scipy.stats import pearsonr"
   ]
  },
  {
   "cell_type": "code",
   "execution_count": 14,
   "id": "bf35c9d5",
   "metadata": {},
   "outputs": [
    {
     "data": {
      "text/plain": [
       "(0.5652087566805262, 1.8110802019906616e-34)"
      ]
     },
     "execution_count": 14,
     "metadata": {},
     "output_type": "execute_result"
    }
   ],
   "source": [
    "pearsonr(drop.origin,drop.Kilometer_per_liter)"
   ]
  },
  {
   "cell_type": "code",
   "execution_count": 15,
   "id": "d8e0bacc",
   "metadata": {},
   "outputs": [
    {
     "name": "stdout",
     "output_type": "stream",
     "text": [
      "Significant 1.8110802019906616e-34\n"
     ]
    }
   ],
   "source": [
    "r,p=pearsonr(drop.origin,drop.Kilometer_per_liter)\n",
    "if p>0.05:\n",
    "    print(\"Not significant\",p)\n",
    "else:\n",
    "    print(\"Significant\",p)\n",
    "    "
   ]
  },
  {
   "cell_type": "code",
   "execution_count": 16,
   "id": "c2cb6081",
   "metadata": {},
   "outputs": [
    {
     "name": "stdout",
     "output_type": "stream",
     "text": [
      "Significant 1.3113836126440812e-80\n"
     ]
    }
   ],
   "source": [
    "r,p=pearsonr(drop.cylinders,drop.Kilometer_per_liter)\n",
    "if p>0.05:\n",
    "    print(\"Not significant\",p)\n",
    "else:\n",
    "    print(\"Significant\",p)\n",
    "    "
   ]
  },
  {
   "cell_type": "code",
   "execution_count": 43,
   "id": "8fc4aa7c",
   "metadata": {},
   "outputs": [
    {
     "name": "stdout",
     "output_type": "stream",
     "text": [
      "Significant 1.6606417936100068e-90\n"
     ]
    }
   ],
   "source": [
    "r,p=pearsonr(drop.displacement,drop.Kilometer_per_liter)\n",
    "if p>0.05:\n",
    "    print(\"Not significant\",p)\n",
    "else:\n",
    "    print(\"Significant\",p)\n",
    "    "
   ]
  },
  {
   "cell_type": "code",
   "execution_count": 18,
   "id": "1984327e",
   "metadata": {},
   "outputs": [
    {
     "name": "stdout",
     "output_type": "stream",
     "text": [
      "Significant 7.031988957280459e-81\n"
     ]
    }
   ],
   "source": [
    "r,p=pearsonr(drop.horsepower,drop.Kilometer_per_liter)\n",
    "if p>0.05:\n",
    "    print(\"Not significant\",p)\n",
    "else:\n",
    "    print(\"Significant\",p)\n",
    "    "
   ]
  },
  {
   "cell_type": "code",
   "execution_count": 19,
   "id": "60faf914",
   "metadata": {},
   "outputs": [
    {
     "name": "stdout",
     "output_type": "stream",
     "text": [
      "Significant 6.015295897114415e-102\n"
     ]
    }
   ],
   "source": [
    "r,p=pearsonr(drop.weight,drop.Kilometer_per_liter)\n",
    "if p>0.05:\n",
    "    print(\"Not significant\",p)\n",
    "else:\n",
    "    print(\"Significant\",p)\n",
    "    "
   ]
  },
  {
   "cell_type": "code",
   "execution_count": 20,
   "id": "70c6ef88",
   "metadata": {},
   "outputs": [
    {
     "name": "stdout",
     "output_type": "stream",
     "text": [
      "Significant 1.778576132110161e-18\n"
     ]
    }
   ],
   "source": [
    "r,p=pearsonr(drop.acceleration,drop.Kilometer_per_liter)\n",
    "if p>0.05:\n",
    "    print(\"Not significant\",p)\n",
    "else:\n",
    "    print(\"Significant\",p)\n",
    "    "
   ]
  },
  {
   "cell_type": "markdown",
   "id": "4964b6c7",
   "metadata": {},
   "source": [
    "## to check Multicollinearity, we find correlation and for that we will use only Numerical IDV's"
   ]
  },
  {
   "cell_type": "code",
   "execution_count": 31,
   "id": "292e9d4d",
   "metadata": {},
   "outputs": [
    {
     "data": {
      "text/html": [
       "<div>\n",
       "<style scoped>\n",
       "    .dataframe tbody tr th:only-of-type {\n",
       "        vertical-align: middle;\n",
       "    }\n",
       "\n",
       "    .dataframe tbody tr th {\n",
       "        vertical-align: top;\n",
       "    }\n",
       "\n",
       "    .dataframe thead th {\n",
       "        text-align: right;\n",
       "    }\n",
       "</style>\n",
       "<table border=\"1\" class=\"dataframe\">\n",
       "  <thead>\n",
       "    <tr style=\"text-align: right;\">\n",
       "      <th></th>\n",
       "      <th>displacement</th>\n",
       "      <th>horsepower</th>\n",
       "      <th>weight</th>\n",
       "      <th>acceleration</th>\n",
       "    </tr>\n",
       "  </thead>\n",
       "  <tbody>\n",
       "    <tr>\n",
       "      <th>displacement</th>\n",
       "      <td>1.000000</td>\n",
       "      <td>0.897257</td>\n",
       "      <td>0.932994</td>\n",
       "      <td>-0.543800</td>\n",
       "    </tr>\n",
       "    <tr>\n",
       "      <th>horsepower</th>\n",
       "      <td>0.897257</td>\n",
       "      <td>1.000000</td>\n",
       "      <td>0.864538</td>\n",
       "      <td>-0.689196</td>\n",
       "    </tr>\n",
       "    <tr>\n",
       "      <th>weight</th>\n",
       "      <td>0.932994</td>\n",
       "      <td>0.864538</td>\n",
       "      <td>1.000000</td>\n",
       "      <td>-0.416839</td>\n",
       "    </tr>\n",
       "    <tr>\n",
       "      <th>acceleration</th>\n",
       "      <td>-0.543800</td>\n",
       "      <td>-0.689196</td>\n",
       "      <td>-0.416839</td>\n",
       "      <td>1.000000</td>\n",
       "    </tr>\n",
       "  </tbody>\n",
       "</table>\n",
       "</div>"
      ],
      "text/plain": [
       "              displacement  horsepower    weight  acceleration\n",
       "displacement      1.000000    0.897257  0.932994     -0.543800\n",
       "horsepower        0.897257    1.000000  0.864538     -0.689196\n",
       "weight            0.932994    0.864538  1.000000     -0.416839\n",
       "acceleration     -0.543800   -0.689196 -0.416839      1.000000"
      ]
     },
     "execution_count": 31,
     "metadata": {},
     "output_type": "execute_result"
    }
   ],
   "source": [
    "#used to check with heatmap\n",
    "IDV.corr()"
   ]
  },
  {
   "cell_type": "code",
   "execution_count": 32,
   "id": "16bfa9a2",
   "metadata": {},
   "outputs": [
    {
     "data": {
      "text/plain": [
       "<AxesSubplot:>"
      ]
     },
     "execution_count": 32,
     "metadata": {},
     "output_type": "execute_result"
    },
    {
     "data": {
      "image/png": "[encoded data removed]",
      "text/plain": [
       "<Figure size 432x288 with 2 Axes>"
      ]
     },
     "metadata": {
      "needs_background": "light"
     },
     "output_type": "display_data"
    }
   ],
   "source": [
    "sns.heatmap(IDV.corr(),annot=True,cmap='viridis')"
   ]
  },
  {
   "cell_type": "markdown",
   "id": "b620f409",
   "metadata": {},
   "source": [
    "### We checked with IDV alone and multicollinearity exists since all are significant"
   ]
  },
  {
   "cell_type": "code",
   "execution_count": 39,
   "id": "bf7f2029",
   "metadata": {},
   "outputs": [
    {
     "name": "stdout",
     "output_type": "stream",
     "text": [
      "displacement and displacement ------> 0.9999999999999999,0.0\n",
      "displacement and horsepower ------> 0.8972570018434691,1.5108887258741506e-140\n",
      "displacement and weight ------> 0.9329944040890106,3.489083946207091e-175\n",
      "displacement and acceleration ------> -0.5438004967345673,1.5085401440805055e-31\n",
      "horsepower and displacement ------> 0.8972570018434691,1.5108887258741506e-140\n",
      "horsepower and horsepower ------> 1.0,0.0\n",
      "horsepower and weight ------> 0.8645377375741443,1.3643468773732557e-118\n",
      "horsepower and acceleration ------> -0.6891955103342364,1.5818862297818033e-56\n",
      "weight and displacement ------> 0.9329944040890106,3.489083946207091e-175\n",
      "weight and horsepower ------> 0.8645377375741443,1.3643468773732557e-118\n",
      "weight and weight ------> 1.0,0.0\n",
      "weight and acceleration ------> -0.4168392020037066,6.56561570202187e-18\n",
      "acceleration and displacement ------> -0.5438004967345673,1.5085401440805055e-31\n",
      "acceleration and horsepower ------> -0.6891955103342364,1.5818862297818033e-56\n",
      "acceleration and weight ------> -0.4168392020037066,6.56561570202187e-18\n",
      "acceleration and acceleration ------> 1.0,0.0\n"
     ]
    }
   ],
   "source": [
    "for i in IDV.select_dtypes(exclude='category'):\n",
    "    for j in IDV.select_dtypes(exclude='category'):\n",
    "        r,p = pearsonr(IDV[i],IDV[j])\n",
    "        print(f'{i} and {j} ------> {r},{p}')  "
   ]
  },
  {
   "cell_type": "code",
   "execution_count": 25,
   "id": "8874cd42",
   "metadata": {},
   "outputs": [
    {
     "name": "stdout",
     "output_type": "stream",
     "text": [
      "\n",
      "Correlation between displacement and horsepower :\n",
      "Correlation =  0.8972570018434691 \n",
      "P_value =  1.5108887258741506e-140\n",
      "Significant.\n",
      "\n",
      "\n",
      "Correlation between displacement and weight :\n",
      "Correlation =  0.9329944040890106 \n",
      "P_value =  3.489083946207091e-175\n",
      "Significant.\n",
      "\n",
      "\n",
      "Correlation between displacement and acceleration :\n",
      "Correlation =  -0.5438004967345673 \n",
      "P_value =  1.5085401440805055e-31\n",
      "Significant.\n",
      "\n",
      "\n",
      "Correlation between horsepower and displacement :\n",
      "Correlation =  0.8972570018434691 \n",
      "P_value =  1.5108887258741506e-140\n",
      "Significant.\n",
      "\n",
      "\n",
      "Correlation between horsepower and weight :\n",
      "Correlation =  0.8645377375741443 \n",
      "P_value =  1.3643468773732557e-118\n",
      "Significant.\n",
      "\n",
      "\n",
      "Correlation between horsepower and acceleration :\n",
      "Correlation =  -0.6891955103342364 \n",
      "P_value =  1.5818862297818033e-56\n",
      "Significant.\n",
      "\n",
      "\n",
      "Correlation between weight and displacement :\n",
      "Correlation =  0.9329944040890106 \n",
      "P_value =  3.489083946207091e-175\n",
      "Significant.\n",
      "\n",
      "\n",
      "Correlation between weight and horsepower :\n",
      "Correlation =  0.8645377375741443 \n",
      "P_value =  1.3643468773732557e-118\n",
      "Significant.\n",
      "\n",
      "\n",
      "Correlation between weight and acceleration :\n",
      "Correlation =  -0.4168392020037066 \n",
      "P_value =  6.56561570202187e-18\n",
      "Significant.\n",
      "\n",
      "\n",
      "Correlation between acceleration and displacement :\n",
      "Correlation =  -0.5438004967345673 \n",
      "P_value =  1.5085401440805055e-31\n",
      "Significant.\n",
      "\n",
      "\n",
      "Correlation between acceleration and horsepower :\n",
      "Correlation =  -0.6891955103342364 \n",
      "P_value =  1.5818862297818033e-56\n",
      "Significant.\n",
      "\n",
      "\n",
      "Correlation between acceleration and weight :\n",
      "Correlation =  -0.4168392020037066 \n",
      "P_value =  6.56561570202187e-18\n",
      "Significant.\n",
      "\n"
     ]
    }
   ],
   "source": [
    "for i in IDV.select_dtypes(exclude='category'):\n",
    "    for j in IDV.select_dtypes(exclude='category'):\n",
    "        correlation=0\n",
    "        p_value=0\n",
    "        if(i!=j):\n",
    "            print(\"\\nCorrelation between\",i,\"and\",j,\":\")\n",
    "            correlation,p_value=pearsonr(IDV[i],IDV[j])  \n",
    "            print(\"Correlation = \",correlation,\"\\nP_value = \",p_value)\n",
    "            if p_value>0.05:\n",
    "                print(\"Not Significant.\")\n",
    "            else:\n",
    "                print(\"Significant.\")\n",
    "            print()"
   ]
  },
  {
   "cell_type": "markdown",
   "id": "3b871c80",
   "metadata": {},
   "source": [
    "### we are going to find correlation between 4 numerical IDVs and 1 Dv. for that we are excluding the categorical values (origin,cylinder) from drop and storing it as drop_cat\n",
    "\n",
    "doubt? why to do this?"
   ]
  },
  {
   "cell_type": "code",
   "execution_count": 27,
   "id": "2a714164",
   "metadata": {},
   "outputs": [
    {
     "data": {
      "text/html": [
       "<div>\n",
       "<style scoped>\n",
       "    .dataframe tbody tr th:only-of-type {\n",
       "        vertical-align: middle;\n",
       "    }\n",
       "\n",
       "    .dataframe tbody tr th {\n",
       "        vertical-align: top;\n",
       "    }\n",
       "\n",
       "    .dataframe thead th {\n",
       "        text-align: right;\n",
       "    }\n",
       "</style>\n",
       "<table border=\"1\" class=\"dataframe\">\n",
       "  <thead>\n",
       "    <tr style=\"text-align: right;\">\n",
       "      <th></th>\n",
       "      <th>displacement</th>\n",
       "      <th>horsepower</th>\n",
       "      <th>weight</th>\n",
       "      <th>acceleration</th>\n",
       "      <th>Kilometer_per_liter</th>\n",
       "    </tr>\n",
       "  </thead>\n",
       "  <tbody>\n",
       "    <tr>\n",
       "      <th>0</th>\n",
       "      <td>307.0</td>\n",
       "      <td>130.0</td>\n",
       "      <td>3504</td>\n",
       "      <td>12.0</td>\n",
       "      <td>7.652587</td>\n",
       "    </tr>\n",
       "    <tr>\n",
       "      <th>1</th>\n",
       "      <td>350.0</td>\n",
       "      <td>165.0</td>\n",
       "      <td>3693</td>\n",
       "      <td>11.5</td>\n",
       "      <td>6.377156</td>\n",
       "    </tr>\n",
       "    <tr>\n",
       "      <th>2</th>\n",
       "      <td>318.0</td>\n",
       "      <td>150.0</td>\n",
       "      <td>3436</td>\n",
       "      <td>11.0</td>\n",
       "      <td>7.652587</td>\n",
       "    </tr>\n",
       "    <tr>\n",
       "      <th>3</th>\n",
       "      <td>304.0</td>\n",
       "      <td>150.0</td>\n",
       "      <td>3433</td>\n",
       "      <td>12.0</td>\n",
       "      <td>6.802299</td>\n",
       "    </tr>\n",
       "    <tr>\n",
       "      <th>4</th>\n",
       "      <td>302.0</td>\n",
       "      <td>140.0</td>\n",
       "      <td>3449</td>\n",
       "      <td>10.5</td>\n",
       "      <td>7.227443</td>\n",
       "    </tr>\n",
       "    <tr>\n",
       "      <th>...</th>\n",
       "      <td>...</td>\n",
       "      <td>...</td>\n",
       "      <td>...</td>\n",
       "      <td>...</td>\n",
       "      <td>...</td>\n",
       "    </tr>\n",
       "    <tr>\n",
       "      <th>393</th>\n",
       "      <td>140.0</td>\n",
       "      <td>86.0</td>\n",
       "      <td>2790</td>\n",
       "      <td>15.6</td>\n",
       "      <td>11.478880</td>\n",
       "    </tr>\n",
       "    <tr>\n",
       "      <th>394</th>\n",
       "      <td>97.0</td>\n",
       "      <td>52.0</td>\n",
       "      <td>2130</td>\n",
       "      <td>24.6</td>\n",
       "      <td>18.706323</td>\n",
       "    </tr>\n",
       "    <tr>\n",
       "      <th>395</th>\n",
       "      <td>135.0</td>\n",
       "      <td>84.0</td>\n",
       "      <td>2295</td>\n",
       "      <td>11.6</td>\n",
       "      <td>13.604599</td>\n",
       "    </tr>\n",
       "    <tr>\n",
       "      <th>396</th>\n",
       "      <td>120.0</td>\n",
       "      <td>79.0</td>\n",
       "      <td>2625</td>\n",
       "      <td>18.6</td>\n",
       "      <td>11.904024</td>\n",
       "    </tr>\n",
       "    <tr>\n",
       "      <th>397</th>\n",
       "      <td>119.0</td>\n",
       "      <td>82.0</td>\n",
       "      <td>2720</td>\n",
       "      <td>19.4</td>\n",
       "      <td>13.179455</td>\n",
       "    </tr>\n",
       "  </tbody>\n",
       "</table>\n",
       "<p>392 rows × 5 columns</p>\n",
       "</div>"
      ],
      "text/plain": [
       "     displacement  horsepower  weight  acceleration  Kilometer_per_liter\n",
       "0           307.0       130.0    3504          12.0             7.652587\n",
       "1           350.0       165.0    3693          11.5             6.377156\n",
       "2           318.0       150.0    3436          11.0             7.652587\n",
       "3           304.0       150.0    3433          12.0             6.802299\n",
       "4           302.0       140.0    3449          10.5             7.227443\n",
       "..            ...         ...     ...           ...                  ...\n",
       "393         140.0        86.0    2790          15.6            11.478880\n",
       "394          97.0        52.0    2130          24.6            18.706323\n",
       "395         135.0        84.0    2295          11.6            13.604599\n",
       "396         120.0        79.0    2625          18.6            11.904024\n",
       "397         119.0        82.0    2720          19.4            13.179455\n",
       "\n",
       "[392 rows x 5 columns]"
      ]
     },
     "execution_count": 27,
     "metadata": {},
     "output_type": "execute_result"
    }
   ],
   "source": [
    "drop_category=drop.iloc[:,2:7]\n",
    "drop_category"
   ]
  },
  {
   "cell_type": "code",
   "execution_count": 28,
   "id": "f06973b4",
   "metadata": {},
   "outputs": [
    {
     "data": {
      "text/html": [
       "<div>\n",
       "<style scoped>\n",
       "    .dataframe tbody tr th:only-of-type {\n",
       "        vertical-align: middle;\n",
       "    }\n",
       "\n",
       "    .dataframe tbody tr th {\n",
       "        vertical-align: top;\n",
       "    }\n",
       "\n",
       "    .dataframe thead th {\n",
       "        text-align: right;\n",
       "    }\n",
       "</style>\n",
       "<table border=\"1\" class=\"dataframe\">\n",
       "  <thead>\n",
       "    <tr style=\"text-align: right;\">\n",
       "      <th></th>\n",
       "      <th>displacement</th>\n",
       "      <th>horsepower</th>\n",
       "      <th>weight</th>\n",
       "      <th>acceleration</th>\n",
       "      <th>Kilometer_per_liter</th>\n",
       "    </tr>\n",
       "  </thead>\n",
       "  <tbody>\n",
       "    <tr>\n",
       "      <th>displacement</th>\n",
       "      <td>1.000000</td>\n",
       "      <td>0.897257</td>\n",
       "      <td>0.932994</td>\n",
       "      <td>-0.543800</td>\n",
       "      <td>-0.805127</td>\n",
       "    </tr>\n",
       "    <tr>\n",
       "      <th>horsepower</th>\n",
       "      <td>0.897257</td>\n",
       "      <td>1.000000</td>\n",
       "      <td>0.864538</td>\n",
       "      <td>-0.689196</td>\n",
       "      <td>-0.778427</td>\n",
       "    </tr>\n",
       "    <tr>\n",
       "      <th>weight</th>\n",
       "      <td>0.932994</td>\n",
       "      <td>0.864538</td>\n",
       "      <td>1.000000</td>\n",
       "      <td>-0.416839</td>\n",
       "      <td>-0.832244</td>\n",
       "    </tr>\n",
       "    <tr>\n",
       "      <th>acceleration</th>\n",
       "      <td>-0.543800</td>\n",
       "      <td>-0.689196</td>\n",
       "      <td>-0.416839</td>\n",
       "      <td>1.000000</td>\n",
       "      <td>0.423329</td>\n",
       "    </tr>\n",
       "    <tr>\n",
       "      <th>Kilometer_per_liter</th>\n",
       "      <td>-0.805127</td>\n",
       "      <td>-0.778427</td>\n",
       "      <td>-0.832244</td>\n",
       "      <td>0.423329</td>\n",
       "      <td>1.000000</td>\n",
       "    </tr>\n",
       "  </tbody>\n",
       "</table>\n",
       "</div>"
      ],
      "text/plain": [
       "                     displacement  horsepower    weight  acceleration  \\\n",
       "displacement             1.000000    0.897257  0.932994     -0.543800   \n",
       "horsepower               0.897257    1.000000  0.864538     -0.689196   \n",
       "weight                   0.932994    0.864538  1.000000     -0.416839   \n",
       "acceleration            -0.543800   -0.689196 -0.416839      1.000000   \n",
       "Kilometer_per_liter     -0.805127   -0.778427 -0.832244      0.423329   \n",
       "\n",
       "                     Kilometer_per_liter  \n",
       "displacement                   -0.805127  \n",
       "horsepower                     -0.778427  \n",
       "weight                         -0.832244  \n",
       "acceleration                    0.423329  \n",
       "Kilometer_per_liter             1.000000  "
      ]
     },
     "execution_count": 28,
     "metadata": {},
     "output_type": "execute_result"
    }
   ],
   "source": [
    "drop_category.corr()"
   ]
  },
  {
   "cell_type": "code",
   "execution_count": 29,
   "id": "c7ce4395",
   "metadata": {
    "scrolled": false
   },
   "outputs": [
    {
     "data": {
      "text/plain": [
       "<AxesSubplot:>"
      ]
     },
     "execution_count": 29,
     "metadata": {},
     "output_type": "execute_result"
    },
    {
     "data": {
      "image/png": "[encoded data removed]",
      "text/plain": [
       "<Figure size 432x288 with 2 Axes>"
      ]
     },
     "metadata": {
      "needs_background": "light"
     },
     "output_type": "display_data"
    }
   ],
   "source": [
    "sns.heatmap(drop_category.corr(),annot=True,cmap='viridis')"
   ]
  },
  {
   "cell_type": "code",
   "execution_count": 30,
   "id": "02f83b06",
   "metadata": {},
   "outputs": [
    {
     "name": "stdout",
     "output_type": "stream",
     "text": [
      "displacement -0.8051269467334896 1.6606417936100068e-90\n",
      "Significant.\n",
      "\n",
      "horsepower -0.7784267839110669 7.031988957280459e-81\n",
      "Significant.\n",
      "\n",
      "weight -0.8322442148558429 6.015295897114415e-102\n",
      "Significant.\n",
      "\n",
      "acceleration 0.4233285368825963 1.778576132110161e-18\n",
      "Significant.\n",
      "\n",
      "Kilometer_per_liter 1.0 0.0\n",
      "Significant.\n",
      "\n"
     ]
    }
   ],
   "source": [
    "for i in drop_category:\n",
    "    r,p=pearsonr(drop_category.Kilometer_per_liter,drop_category[i])\n",
    "    print(i,r,p)\n",
    "    if p_value>0.05:\n",
    "        print(\"Not Significant.\")\n",
    "    else:\n",
    "        print(\"Significant.\")\n",
    "        print()"
   ]
  },
  {
   "cell_type": "code",
   "execution_count": null,
   "id": "421f4670",
   "metadata": {},
   "outputs": [],
   "source": [
    "for i in drop_category.select_dtypes(exclude='category'):\n",
    "    for j in drop_category.select_dtypes(exclude='category'):\n",
    "        correlation=0\n",
    "        p_value=0\n",
    "        if(i!=j):\n",
    "            print(\"\\nCorrelation between\",i,\"and\",j,\":\")\n",
    "            correlation,p_value=pearsonr(drop_category[i],drop_category[j])  \n",
    "            print(\"Correlation = \",correlation,\"\\nP_value = \",p_value)\n",
    "            if p_value>0.05:\n",
    "                print(\"Not Significant.\")\n",
    "            else:\n",
    "                print(\"Significant.\")\n",
    "            print()"
   ]
  },
  {
   "cell_type": "markdown",
   "id": "89434344",
   "metadata": {},
   "source": [
    "# Checking VIF"
   ]
  },
  {
   "cell_type": "code",
   "execution_count": 69,
   "id": "9a6e93cb",
   "metadata": {},
   "outputs": [],
   "source": [
    "from statsmodels.stats.outliers_influence import variance_inflation_factor"
   ]
  },
  {
   "cell_type": "code",
   "execution_count": 70,
   "id": "b57b53ab",
   "metadata": {},
   "outputs": [
    {
     "data": {
      "text/html": [
       "<div>\n",
       "<style scoped>\n",
       "    .dataframe tbody tr th:only-of-type {\n",
       "        vertical-align: middle;\n",
       "    }\n",
       "\n",
       "    .dataframe tbody tr th {\n",
       "        vertical-align: top;\n",
       "    }\n",
       "\n",
       "    .dataframe thead th {\n",
       "        text-align: right;\n",
       "    }\n",
       "</style>\n",
       "<table border=\"1\" class=\"dataframe\">\n",
       "  <thead>\n",
       "    <tr style=\"text-align: right;\">\n",
       "      <th></th>\n",
       "      <th>displacement</th>\n",
       "      <th>horsepower</th>\n",
       "      <th>weight</th>\n",
       "      <th>acceleration</th>\n",
       "    </tr>\n",
       "  </thead>\n",
       "  <tbody>\n",
       "    <tr>\n",
       "      <th>0</th>\n",
       "      <td>307.0</td>\n",
       "      <td>130.0</td>\n",
       "      <td>3504</td>\n",
       "      <td>12.0</td>\n",
       "    </tr>\n",
       "    <tr>\n",
       "      <th>1</th>\n",
       "      <td>350.0</td>\n",
       "      <td>165.0</td>\n",
       "      <td>3693</td>\n",
       "      <td>11.5</td>\n",
       "    </tr>\n",
       "    <tr>\n",
       "      <th>2</th>\n",
       "      <td>318.0</td>\n",
       "      <td>150.0</td>\n",
       "      <td>3436</td>\n",
       "      <td>11.0</td>\n",
       "    </tr>\n",
       "    <tr>\n",
       "      <th>3</th>\n",
       "      <td>304.0</td>\n",
       "      <td>150.0</td>\n",
       "      <td>3433</td>\n",
       "      <td>12.0</td>\n",
       "    </tr>\n",
       "    <tr>\n",
       "      <th>4</th>\n",
       "      <td>302.0</td>\n",
       "      <td>140.0</td>\n",
       "      <td>3449</td>\n",
       "      <td>10.5</td>\n",
       "    </tr>\n",
       "  </tbody>\n",
       "</table>\n",
       "</div>"
      ],
      "text/plain": [
       "   displacement  horsepower  weight  acceleration\n",
       "0         307.0       130.0    3504          12.0\n",
       "1         350.0       165.0    3693          11.5\n",
       "2         318.0       150.0    3436          11.0\n",
       "3         304.0       150.0    3433          12.0\n",
       "4         302.0       140.0    3449          10.5"
      ]
     },
     "execution_count": 70,
     "metadata": {},
     "output_type": "execute_result"
    }
   ],
   "source": [
    "IDV_numerical = IDV.select_dtypes(exclude='category')\n",
    "IDV_numerical.head()"
   ]
  },
  {
   "cell_type": "code",
   "execution_count": 71,
   "id": "276c5f29",
   "metadata": {},
   "outputs": [
    {
     "name": "stdout",
     "output_type": "stream",
     "text": [
      "displacement------>45.8655942608709\n",
      "horsepower------>42.01519337024783\n",
      "weight------>136.44952062802815\n",
      "acceleration------>20.304705092289847\n"
     ]
    }
   ],
   "source": [
    "for i in range(len(IDV_numerical.columns)):\n",
    "    print(f'{IDV_numerical.columns[i]}------>{variance_inflation_factor(IDV_numerical.values,i)}')"
   ]
  },
  {
   "cell_type": "code",
   "execution_count": null,
   "id": "e1dcf578",
   "metadata": {},
   "outputs": [],
   "source": []
  },
  {
   "cell_type": "markdown",
   "id": "2bff6864",
   "metadata": {},
   "source": [
    "## To check Normality of errors"
   ]
  },
  {
   "cell_type": "markdown",
   "id": "9b03714f",
   "metadata": {},
   "source": [
    "#### we are using shapiro because dataselt is below 5000. \n",
    "#if >5000 use Anderson ;\n",
    "As a rule of thumb, we reject the null hypothesis if p < 0.05."
   ]
  },
  {
   "cell_type": "code",
   "execution_count": 50,
   "id": "1ee1232f",
   "metadata": {},
   "outputs": [
    {
     "data": {
      "text/plain": [
       "ShapiroResult(statistic=0.967170000076294, pvalue=1.0495841706870124e-07)"
      ]
     },
     "execution_count": 50,
     "metadata": {},
     "output_type": "execute_result"
    }
   ],
   "source": [
    "from scipy.stats import anderson,shapiro,kstest\n",
    "from scipy import stats\n",
    "shapiro_test = stats.shapiro(drop.Kilometer_per_liter)\n",
    "shapiro_test"
   ]
  },
  {
   "cell_type": "code",
   "execution_count": 51,
   "id": "5351462e",
   "metadata": {},
   "outputs": [
    {
     "name": "stdout",
     "output_type": "stream",
     "text": [
      "Not normally distributed\n"
     ]
    }
   ],
   "source": [
    "s,p=shapiro(drop.Kilometer_per_liter)\n",
    "if p>0.05:\n",
    "    print(\"normally distributed\")\n",
    "else:\n",
    "    print(\"Not normally distributed\")"
   ]
  },
  {
   "cell_type": "markdown",
   "id": "90b6c0f3",
   "metadata": {},
   "source": [
    "#### Feature Transformation technique for Normality check ,since the normality cheked using shapiro is not significant\n",
    "#FT has 4 types where in this case we use LOG TRANSFORMATION\n",
    "\n",
    "#doubt why we use log??"
   ]
  },
  {
   "cell_type": "code",
   "execution_count": null,
   "id": "6fd9f498",
   "metadata": {
    "scrolled": true
   },
   "outputs": [],
   "source": [
    "np.log10(drop_category.Kilometer_per_liter)"
   ]
  },
  {
   "cell_type": "markdown",
   "id": "04d665bd",
   "metadata": {},
   "source": [
    "### To build Linear model"
   ]
  },
  {
   "cell_type": "code",
   "execution_count": 111,
   "id": "6b2a53f7",
   "metadata": {},
   "outputs": [],
   "source": [
    "from sklearn.model_selection import train_test_split"
   ]
  },
  {
   "cell_type": "code",
   "execution_count": 112,
   "id": "57cdc53c",
   "metadata": {},
   "outputs": [
    {
     "data": {
      "text/html": [
       "<div>\n",
       "<style scoped>\n",
       "    .dataframe tbody tr th:only-of-type {\n",
       "        vertical-align: middle;\n",
       "    }\n",
       "\n",
       "    .dataframe tbody tr th {\n",
       "        vertical-align: top;\n",
       "    }\n",
       "\n",
       "    .dataframe thead th {\n",
       "        text-align: right;\n",
       "    }\n",
       "</style>\n",
       "<table border=\"1\" class=\"dataframe\">\n",
       "  <thead>\n",
       "    <tr style=\"text-align: right;\">\n",
       "      <th></th>\n",
       "      <th>origin</th>\n",
       "      <th>cylinders</th>\n",
       "      <th>displacement</th>\n",
       "      <th>horsepower</th>\n",
       "      <th>weight</th>\n",
       "      <th>acceleration</th>\n",
       "    </tr>\n",
       "  </thead>\n",
       "  <tbody>\n",
       "    <tr>\n",
       "      <th>0</th>\n",
       "      <td>1</td>\n",
       "      <td>8</td>\n",
       "      <td>307.0</td>\n",
       "      <td>130.0</td>\n",
       "      <td>3504</td>\n",
       "      <td>12.0</td>\n",
       "    </tr>\n",
       "    <tr>\n",
       "      <th>1</th>\n",
       "      <td>1</td>\n",
       "      <td>8</td>\n",
       "      <td>350.0</td>\n",
       "      <td>165.0</td>\n",
       "      <td>3693</td>\n",
       "      <td>11.5</td>\n",
       "    </tr>\n",
       "    <tr>\n",
       "      <th>2</th>\n",
       "      <td>1</td>\n",
       "      <td>8</td>\n",
       "      <td>318.0</td>\n",
       "      <td>150.0</td>\n",
       "      <td>3436</td>\n",
       "      <td>11.0</td>\n",
       "    </tr>\n",
       "    <tr>\n",
       "      <th>3</th>\n",
       "      <td>1</td>\n",
       "      <td>8</td>\n",
       "      <td>304.0</td>\n",
       "      <td>150.0</td>\n",
       "      <td>3433</td>\n",
       "      <td>12.0</td>\n",
       "    </tr>\n",
       "    <tr>\n",
       "      <th>4</th>\n",
       "      <td>1</td>\n",
       "      <td>8</td>\n",
       "      <td>302.0</td>\n",
       "      <td>140.0</td>\n",
       "      <td>3449</td>\n",
       "      <td>10.5</td>\n",
       "    </tr>\n",
       "    <tr>\n",
       "      <th>...</th>\n",
       "      <td>...</td>\n",
       "      <td>...</td>\n",
       "      <td>...</td>\n",
       "      <td>...</td>\n",
       "      <td>...</td>\n",
       "      <td>...</td>\n",
       "    </tr>\n",
       "    <tr>\n",
       "      <th>393</th>\n",
       "      <td>1</td>\n",
       "      <td>4</td>\n",
       "      <td>140.0</td>\n",
       "      <td>86.0</td>\n",
       "      <td>2790</td>\n",
       "      <td>15.6</td>\n",
       "    </tr>\n",
       "    <tr>\n",
       "      <th>394</th>\n",
       "      <td>2</td>\n",
       "      <td>4</td>\n",
       "      <td>97.0</td>\n",
       "      <td>52.0</td>\n",
       "      <td>2130</td>\n",
       "      <td>24.6</td>\n",
       "    </tr>\n",
       "    <tr>\n",
       "      <th>395</th>\n",
       "      <td>1</td>\n",
       "      <td>4</td>\n",
       "      <td>135.0</td>\n",
       "      <td>84.0</td>\n",
       "      <td>2295</td>\n",
       "      <td>11.6</td>\n",
       "    </tr>\n",
       "    <tr>\n",
       "      <th>396</th>\n",
       "      <td>1</td>\n",
       "      <td>4</td>\n",
       "      <td>120.0</td>\n",
       "      <td>79.0</td>\n",
       "      <td>2625</td>\n",
       "      <td>18.6</td>\n",
       "    </tr>\n",
       "    <tr>\n",
       "      <th>397</th>\n",
       "      <td>1</td>\n",
       "      <td>4</td>\n",
       "      <td>119.0</td>\n",
       "      <td>82.0</td>\n",
       "      <td>2720</td>\n",
       "      <td>19.4</td>\n",
       "    </tr>\n",
       "  </tbody>\n",
       "</table>\n",
       "<p>392 rows × 6 columns</p>\n",
       "</div>"
      ],
      "text/plain": [
       "    origin cylinders  displacement  horsepower  weight  acceleration\n",
       "0        1         8         307.0       130.0    3504          12.0\n",
       "1        1         8         350.0       165.0    3693          11.5\n",
       "2        1         8         318.0       150.0    3436          11.0\n",
       "3        1         8         304.0       150.0    3433          12.0\n",
       "4        1         8         302.0       140.0    3449          10.5\n",
       "..     ...       ...           ...         ...     ...           ...\n",
       "393      1         4         140.0        86.0    2790          15.6\n",
       "394      2         4          97.0        52.0    2130          24.6\n",
       "395      1         4         135.0        84.0    2295          11.6\n",
       "396      1         4         120.0        79.0    2625          18.6\n",
       "397      1         4         119.0        82.0    2720          19.4\n",
       "\n",
       "[392 rows x 6 columns]"
      ]
     },
     "execution_count": 112,
     "metadata": {},
     "output_type": "execute_result"
    }
   ],
   "source": [
    "x=drop.iloc[:,:-1]   #independent variables stored in x\n",
    "x"
   ]
  },
  {
   "cell_type": "code",
   "execution_count": 113,
   "id": "075ea5c3",
   "metadata": {},
   "outputs": [
    {
     "data": {
      "text/plain": [
       "0       7.652587\n",
       "1       6.377156\n",
       "2       7.652587\n",
       "3       6.802299\n",
       "4       7.227443\n",
       "         ...    \n",
       "393    11.478880\n",
       "394    18.706323\n",
       "395    13.604599\n",
       "396    11.904024\n",
       "397    13.179455\n",
       "Name: Kilometer_per_liter, Length: 392, dtype: float64"
      ]
     },
     "execution_count": 113,
     "metadata": {},
     "output_type": "execute_result"
    }
   ],
   "source": [
    "y=drop.iloc[:,-1]   #dependent values stored in y\n",
    "y"
   ]
  },
  {
   "cell_type": "code",
   "execution_count": null,
   "id": "7ac57e58",
   "metadata": {},
   "outputs": [],
   "source": [
    "x_train, x_test, y_train, y_test = train_test_split(x,y, test_size=0.3)  # test size=30% and train size =70%"
   ]
  },
  {
   "cell_type": "code",
   "execution_count": null,
   "id": "d9b95623",
   "metadata": {},
   "outputs": [],
   "source": [
    "print(x_train.shape)\n",
    "print(x_test.shape)\n",
    "print(y_train.shape)\n",
    "print(y_test.shape)"
   ]
  },
  {
   "cell_type": "code",
   "execution_count": null,
   "id": "4a8cdc7f",
   "metadata": {},
   "outputs": [],
   "source": [
    "from sklearn.linear_model import LinearRegression"
   ]
  },
  {
   "cell_type": "code",
   "execution_count": null,
   "id": "46616b6d",
   "metadata": {},
   "outputs": [],
   "source": [
    "l=LinearRegression()  #storing LR in variable l"
   ]
  },
  {
   "cell_type": "code",
   "execution_count": null,
   "id": "477ef422",
   "metadata": {},
   "outputs": [],
   "source": [
    "l.fit(x_train,y_train) #fit x and y train and assign in l"
   ]
  },
  {
   "cell_type": "code",
   "execution_count": null,
   "id": "8f231de0",
   "metadata": {},
   "outputs": [],
   "source": [
    "l.coef_  #y=mx+c ; coeff is m value (wherein m is slope)"
   ]
  },
  {
   "cell_type": "code",
   "execution_count": null,
   "id": "8ff4efaf",
   "metadata": {},
   "outputs": [],
   "source": [
    "l.intercept_   #intercept is c value"
   ]
  },
  {
   "cell_type": "markdown",
   "id": "96afa16a",
   "metadata": {},
   "source": [
    "### To find Train RMSE\n",
    "\n",
    "\n",
    "Things to find: \n",
    "\n",
    "Train_pred\n",
    "\n",
    "\n",
    "Error for train data\n",
    "\n",
    "KDE Plot\n",
    "\n",
    "find the mean squared error for train\n",
    "\n",
    "find the R sqaured value for train "
   ]
  },
  {
   "cell_type": "code",
   "execution_count": null,
   "id": "66ebacf6",
   "metadata": {},
   "outputs": [],
   "source": [
    "train_pred=l.predict(x_train)\n",
    "train_pred"
   ]
  },
  {
   "cell_type": "code",
   "execution_count": null,
   "id": "7a549fb0",
   "metadata": {},
   "outputs": [],
   "source": [
    "error=y_train-train_pred"
   ]
  },
  {
   "cell_type": "code",
   "execution_count": null,
   "id": "521983fa",
   "metadata": {},
   "outputs": [],
   "source": [
    "error   #error for train data"
   ]
  },
  {
   "cell_type": "code",
   "execution_count": null,
   "id": "91d723f8",
   "metadata": {},
   "outputs": [],
   "source": [
    "sns.kdeplot(error)"
   ]
  },
  {
   "cell_type": "code",
   "execution_count": null,
   "id": "004e0796",
   "metadata": {},
   "outputs": [],
   "source": [
    "from sklearn.metrics import mean_squared_error,r2_score"
   ]
  },
  {
   "cell_type": "code",
   "execution_count": null,
   "id": "f5cdd78b",
   "metadata": {},
   "outputs": [],
   "source": [
    "mean_squared_error(train_pred,y_train)"
   ]
  },
  {
   "cell_type": "code",
   "execution_count": null,
   "id": "5d5517b2",
   "metadata": {},
   "outputs": [],
   "source": [
    "np.sqrt(mean_squared_error(train_pred,y_train))     #Train RMSE"
   ]
  },
  {
   "cell_type": "code",
   "execution_count": null,
   "id": "c3b2fa81",
   "metadata": {},
   "outputs": [],
   "source": [
    "r2_score(y_train,train_pred)   # R sq of Train RMSE"
   ]
  },
  {
   "cell_type": "markdown",
   "id": "8d27f78c",
   "metadata": {},
   "source": [
    "### To find Test RMSE\n",
    "\n",
    "\n",
    "Things to find: \n",
    "\n",
    "Test_pred\n",
    "\n",
    "\n",
    "Error for test data\n",
    "\n",
    "KDE Plot\n",
    "\n",
    "find the mean squared error for test\n",
    "\n",
    "find the R sqaured value for test"
   ]
  },
  {
   "cell_type": "code",
   "execution_count": null,
   "id": "b1cebe5b",
   "metadata": {},
   "outputs": [],
   "source": [
    "test_pred=l.predict(x_test)\n",
    "test_pred"
   ]
  },
  {
   "cell_type": "code",
   "execution_count": null,
   "id": "60295655",
   "metadata": {},
   "outputs": [],
   "source": [
    "error2=y_test-test_pred"
   ]
  },
  {
   "cell_type": "code",
   "execution_count": null,
   "id": "59341b22",
   "metadata": {},
   "outputs": [],
   "source": [
    "error2"
   ]
  },
  {
   "cell_type": "code",
   "execution_count": null,
   "id": "f0c469f4",
   "metadata": {},
   "outputs": [],
   "source": [
    "sns.kdeplot(error2)"
   ]
  },
  {
   "cell_type": "code",
   "execution_count": null,
   "id": "f9090430",
   "metadata": {},
   "outputs": [],
   "source": [
    "mean_squared_error(test_pred,y_test)"
   ]
  },
  {
   "cell_type": "code",
   "execution_count": null,
   "id": "07eeecbe",
   "metadata": {},
   "outputs": [],
   "source": [
    "np.sqrt(mean_squared_error(test_pred,y_test))   #Test RMSE"
   ]
  },
  {
   "cell_type": "code",
   "execution_count": null,
   "id": "965d4345",
   "metadata": {},
   "outputs": [],
   "source": [
    "r2_score(y_test,test_pred)    #test r sq"
   ]
  },
  {
   "cell_type": "markdown",
   "id": "41f6904b",
   "metadata": {},
   "source": [
    "### now check hetroscadacity"
   ]
  },
  {
   "cell_type": "code",
   "execution_count": null,
   "id": "d64066dd",
   "metadata": {},
   "outputs": [],
   "source": [
    "import statsmodels.api as sm"
   ]
  },
  {
   "cell_type": "markdown",
   "id": "4918de2a",
   "metadata": {},
   "source": [
    "### adding constant in x_train and assigning it in x_train1 to perform matrix multiplication \n",
    "\n",
    "note: it cant be added in y(dependent variable)"
   ]
  },
  {
   "cell_type": "code",
   "execution_count": null,
   "id": "5f00f245",
   "metadata": {},
   "outputs": [],
   "source": [
    "x_train1=sm.add_constant(x_train)\n",
    "x_train1"
   ]
  },
  {
   "cell_type": "code",
   "execution_count": null,
   "id": "c8474c2b",
   "metadata": {},
   "outputs": [],
   "source": [
    "model=sm.OLS(y_train,x_train1).fit()\n"
   ]
  },
  {
   "cell_type": "code",
   "execution_count": 40,
   "id": "9082a158",
   "metadata": {},
   "outputs": [
    {
     "ename": "NameError",
     "evalue": "name 'model' is not defined",
     "output_type": "error",
     "traceback": [
      "\u001b[1;31m---------------------------------------------------------------------------\u001b[0m",
      "\u001b[1;31mNameError\u001b[0m                                 Traceback (most recent call last)",
      "\u001b[1;32m<ipython-input-40-5f15418b3570>\u001b[0m in \u001b[0;36m<module>\u001b[1;34m\u001b[0m\n\u001b[1;32m----> 1\u001b[1;33m \u001b[0mmodel\u001b[0m\u001b[1;33m.\u001b[0m\u001b[0msummary\u001b[0m\u001b[1;33m(\u001b[0m\u001b[1;33m)\u001b[0m\u001b[1;33m\u001b[0m\u001b[1;33m\u001b[0m\u001b[0m\n\u001b[0m",
      "\u001b[1;31mNameError\u001b[0m: name 'model' is not defined"
     ]
    }
   ],
   "source": [
    "model.summary()"
   ]
  },
  {
   "cell_type": "code",
   "execution_count": 38,
   "id": "c7b0e726",
   "metadata": {},
   "outputs": [
    {
     "name": "stdout",
     "output_type": "stream",
     "text": [
      "displacement and displacement ------> 0.9999999999999999,0.0\n",
      "displacement and horsepower ------> 0.8972570018434691,1.5108887258741506e-140\n",
      "displacement and weight ------> 0.9329944040890106,3.489083946207091e-175\n",
      "displacement and acceleration ------> -0.5438004967345673,1.5085401440805055e-31\n",
      "horsepower and displacement ------> 0.8972570018434691,1.5108887258741506e-140\n",
      "horsepower and horsepower ------> 1.0,0.0\n",
      "horsepower and weight ------> 0.8645377375741443,1.3643468773732557e-118\n",
      "horsepower and acceleration ------> -0.6891955103342364,1.5818862297818033e-56\n",
      "weight and displacement ------> 0.9329944040890106,3.489083946207091e-175\n",
      "weight and horsepower ------> 0.8645377375741443,1.3643468773732557e-118\n",
      "weight and weight ------> 1.0,0.0\n",
      "weight and acceleration ------> -0.4168392020037066,6.56561570202187e-18\n",
      "acceleration and displacement ------> -0.5438004967345673,1.5085401440805055e-31\n",
      "acceleration and horsepower ------> -0.6891955103342364,1.5818862297818033e-56\n",
      "acceleration and weight ------> -0.4168392020037066,6.56561570202187e-18\n",
      "acceleration and acceleration ------> 1.0,0.0\n"
     ]
    }
   ],
   "source": [
    "for i in drop_category.iloc[:,:-1].columns:\n",
    "    for j in drop_category.iloc[:,:-1].columns:\n",
    "        r,p = pearsonr(drop_category[i],drop_category[j])\n",
    "        print(f'{i} and {j} ------> {r},{p}')"
   ]
  },
  {
   "cell_type": "markdown",
   "id": "1748d72b",
   "metadata": {},
   "source": [
    "# Building model with 3IDV and weight as DV from IDV_numerical"
   ]
  },
  {
   "cell_type": "code",
   "execution_count": 73,
   "id": "271e6ddf",
   "metadata": {},
   "outputs": [
    {
     "data": {
      "text/html": [
       "<div>\n",
       "<style scoped>\n",
       "    .dataframe tbody tr th:only-of-type {\n",
       "        vertical-align: middle;\n",
       "    }\n",
       "\n",
       "    .dataframe tbody tr th {\n",
       "        vertical-align: top;\n",
       "    }\n",
       "\n",
       "    .dataframe thead th {\n",
       "        text-align: right;\n",
       "    }\n",
       "</style>\n",
       "<table border=\"1\" class=\"dataframe\">\n",
       "  <thead>\n",
       "    <tr style=\"text-align: right;\">\n",
       "      <th></th>\n",
       "      <th>displacement</th>\n",
       "      <th>horsepower</th>\n",
       "      <th>weight</th>\n",
       "      <th>acceleration</th>\n",
       "    </tr>\n",
       "  </thead>\n",
       "  <tbody>\n",
       "    <tr>\n",
       "      <th>0</th>\n",
       "      <td>307.0</td>\n",
       "      <td>130.0</td>\n",
       "      <td>3504</td>\n",
       "      <td>12.0</td>\n",
       "    </tr>\n",
       "    <tr>\n",
       "      <th>1</th>\n",
       "      <td>350.0</td>\n",
       "      <td>165.0</td>\n",
       "      <td>3693</td>\n",
       "      <td>11.5</td>\n",
       "    </tr>\n",
       "    <tr>\n",
       "      <th>2</th>\n",
       "      <td>318.0</td>\n",
       "      <td>150.0</td>\n",
       "      <td>3436</td>\n",
       "      <td>11.0</td>\n",
       "    </tr>\n",
       "    <tr>\n",
       "      <th>3</th>\n",
       "      <td>304.0</td>\n",
       "      <td>150.0</td>\n",
       "      <td>3433</td>\n",
       "      <td>12.0</td>\n",
       "    </tr>\n",
       "    <tr>\n",
       "      <th>4</th>\n",
       "      <td>302.0</td>\n",
       "      <td>140.0</td>\n",
       "      <td>3449</td>\n",
       "      <td>10.5</td>\n",
       "    </tr>\n",
       "  </tbody>\n",
       "</table>\n",
       "</div>"
      ],
      "text/plain": [
       "   displacement  horsepower  weight  acceleration\n",
       "0         307.0       130.0    3504          12.0\n",
       "1         350.0       165.0    3693          11.5\n",
       "2         318.0       150.0    3436          11.0\n",
       "3         304.0       150.0    3433          12.0\n",
       "4         302.0       140.0    3449          10.5"
      ]
     },
     "execution_count": 73,
     "metadata": {},
     "output_type": "execute_result"
    }
   ],
   "source": [
    "IDV_numerical.head()"
   ]
  },
  {
   "cell_type": "code",
   "execution_count": 78,
   "id": "3b0c2dc7",
   "metadata": {},
   "outputs": [
    {
     "data": {
      "text/html": [
       "<div>\n",
       "<style scoped>\n",
       "    .dataframe tbody tr th:only-of-type {\n",
       "        vertical-align: middle;\n",
       "    }\n",
       "\n",
       "    .dataframe tbody tr th {\n",
       "        vertical-align: top;\n",
       "    }\n",
       "\n",
       "    .dataframe thead th {\n",
       "        text-align: right;\n",
       "    }\n",
       "</style>\n",
       "<table border=\"1\" class=\"dataframe\">\n",
       "  <thead>\n",
       "    <tr style=\"text-align: right;\">\n",
       "      <th></th>\n",
       "      <th>displacement</th>\n",
       "      <th>horsepower</th>\n",
       "      <th>acceleration</th>\n",
       "    </tr>\n",
       "  </thead>\n",
       "  <tbody>\n",
       "    <tr>\n",
       "      <th>0</th>\n",
       "      <td>307.0</td>\n",
       "      <td>130.0</td>\n",
       "      <td>12.0</td>\n",
       "    </tr>\n",
       "    <tr>\n",
       "      <th>1</th>\n",
       "      <td>350.0</td>\n",
       "      <td>165.0</td>\n",
       "      <td>11.5</td>\n",
       "    </tr>\n",
       "    <tr>\n",
       "      <th>2</th>\n",
       "      <td>318.0</td>\n",
       "      <td>150.0</td>\n",
       "      <td>11.0</td>\n",
       "    </tr>\n",
       "    <tr>\n",
       "      <th>3</th>\n",
       "      <td>304.0</td>\n",
       "      <td>150.0</td>\n",
       "      <td>12.0</td>\n",
       "    </tr>\n",
       "    <tr>\n",
       "      <th>4</th>\n",
       "      <td>302.0</td>\n",
       "      <td>140.0</td>\n",
       "      <td>10.5</td>\n",
       "    </tr>\n",
       "  </tbody>\n",
       "</table>\n",
       "</div>"
      ],
      "text/plain": [
       "   displacement  horsepower  acceleration\n",
       "0         307.0       130.0          12.0\n",
       "1         350.0       165.0          11.5\n",
       "2         318.0       150.0          11.0\n",
       "3         304.0       150.0          12.0\n",
       "4         302.0       140.0          10.5"
      ]
     },
     "execution_count": 78,
     "metadata": {},
     "output_type": "execute_result"
    }
   ],
   "source": [
    "x1=IDV_numerical[['displacement','horsepower','acceleration']]\n",
    "x1.head()"
   ]
  },
  {
   "cell_type": "code",
   "execution_count": 77,
   "id": "c5f4bc58",
   "metadata": {},
   "outputs": [
    {
     "data": {
      "text/html": [
       "<div>\n",
       "<style scoped>\n",
       "    .dataframe tbody tr th:only-of-type {\n",
       "        vertical-align: middle;\n",
       "    }\n",
       "\n",
       "    .dataframe tbody tr th {\n",
       "        vertical-align: top;\n",
       "    }\n",
       "\n",
       "    .dataframe thead th {\n",
       "        text-align: right;\n",
       "    }\n",
       "</style>\n",
       "<table border=\"1\" class=\"dataframe\">\n",
       "  <thead>\n",
       "    <tr style=\"text-align: right;\">\n",
       "      <th></th>\n",
       "      <th>weight</th>\n",
       "    </tr>\n",
       "  </thead>\n",
       "  <tbody>\n",
       "    <tr>\n",
       "      <th>0</th>\n",
       "      <td>3504</td>\n",
       "    </tr>\n",
       "    <tr>\n",
       "      <th>1</th>\n",
       "      <td>3693</td>\n",
       "    </tr>\n",
       "    <tr>\n",
       "      <th>2</th>\n",
       "      <td>3436</td>\n",
       "    </tr>\n",
       "    <tr>\n",
       "      <th>3</th>\n",
       "      <td>3433</td>\n",
       "    </tr>\n",
       "    <tr>\n",
       "      <th>4</th>\n",
       "      <td>3449</td>\n",
       "    </tr>\n",
       "  </tbody>\n",
       "</table>\n",
       "</div>"
      ],
      "text/plain": [
       "   weight\n",
       "0    3504\n",
       "1    3693\n",
       "2    3436\n",
       "3    3433\n",
       "4    3449"
      ]
     },
     "execution_count": 77,
     "metadata": {},
     "output_type": "execute_result"
    }
   ],
   "source": [
    "y1=IDV_numerical[['weight']]\n",
    "y1.head()"
   ]
  },
  {
   "cell_type": "code",
   "execution_count": 79,
   "id": "5d0cabb8",
   "metadata": {},
   "outputs": [],
   "source": [
    "from sklearn.linear_model import LinearRegression"
   ]
  },
  {
   "cell_type": "code",
   "execution_count": 88,
   "id": "7d7eca6f",
   "metadata": {},
   "outputs": [],
   "source": [
    "l=LinearRegression(fit_intercept=False)  #storing LR in variable l"
   ]
  },
  {
   "cell_type": "code",
   "execution_count": 89,
   "id": "b8301853",
   "metadata": {},
   "outputs": [
    {
     "data": {
      "text/plain": [
       "LinearRegression(fit_intercept=False)"
      ]
     },
     "execution_count": 89,
     "metadata": {},
     "output_type": "execute_result"
    }
   ],
   "source": [
    "l.fit(x1,y1) #fit x and y train and assign in l"
   ]
  },
  {
   "cell_type": "code",
   "execution_count": 90,
   "id": "fcae54ef",
   "metadata": {},
   "outputs": [
    {
     "data": {
      "text/plain": [
       "array([[ 5.93038715,  7.74246755, 65.45452908]])"
      ]
     },
     "execution_count": 90,
     "metadata": {},
     "output_type": "execute_result"
    }
   ],
   "source": [
    "l.coef_  #y=mx+c ; coeff is m value (wherein m is slope)"
   ]
  },
  {
   "cell_type": "code",
   "execution_count": 91,
   "id": "a457f526",
   "metadata": {},
   "outputs": [
    {
     "data": {
      "text/plain": [
       "0.0"
      ]
     },
     "execution_count": 91,
     "metadata": {},
     "output_type": "execute_result"
    }
   ],
   "source": [
    "l.intercept_   #intercept is c value"
   ]
  },
  {
   "cell_type": "code",
   "execution_count": 92,
   "id": "40c0e6d6",
   "metadata": {},
   "outputs": [],
   "source": [
    "from sklearn.metrics import mean_squared_error,r2_score"
   ]
  },
  {
   "cell_type": "code",
   "execution_count": 93,
   "id": "3bc1a080",
   "metadata": {},
   "outputs": [
    {
     "data": {
      "text/plain": [
       "0.9023815716172681"
      ]
     },
     "execution_count": 93,
     "metadata": {},
     "output_type": "execute_result"
    }
   ],
   "source": [
    "l.score(x1,y1)"
   ]
  },
  {
   "cell_type": "code",
   "execution_count": 94,
   "id": "4d8ba92c",
   "metadata": {},
   "outputs": [
    {
     "data": {
      "text/plain": [
       "0.9023815716172681"
      ]
     },
     "execution_count": 94,
     "metadata": {},
     "output_type": "execute_result"
    }
   ],
   "source": [
    "r2_score(y1,l.predict(x1))"
   ]
  },
  {
   "cell_type": "code",
   "execution_count": null,
   "id": "74c112af",
   "metadata": {},
   "outputs": [],
   "source": []
  },
  {
   "cell_type": "markdown",
   "id": "4bf6b1ac",
   "metadata": {},
   "source": [
    "# OLS"
   ]
  },
  {
   "cell_type": "code",
   "execution_count": 95,
   "id": "ac0da590",
   "metadata": {},
   "outputs": [],
   "source": [
    "from sklearn.model_selection import train_test_split\n",
    "import statsmodels.api as sm"
   ]
  },
  {
   "cell_type": "code",
   "execution_count": 105,
   "id": "ad69865c",
   "metadata": {},
   "outputs": [],
   "source": [
    "x2=x1\n",
    "y2=y1"
   ]
  },
  {
   "cell_type": "code",
   "execution_count": 106,
   "id": "fccc6f44",
   "metadata": {},
   "outputs": [],
   "source": [
    "x2train, x2test, y2train, y2test = train_test_split(x2,y2, test_size=0.3,random_state=28)  # test size=30% and train size =70%"
   ]
  },
  {
   "cell_type": "code",
   "execution_count": 110,
   "id": "764ef1e3",
   "metadata": {},
   "outputs": [
    {
     "data": {
      "text/html": [
       "<table class=\"simpletable\">\n",
       "<caption>OLS Regression Results</caption>\n",
       "<tr>\n",
       "  <th>Dep. Variable:</th>         <td>weight</td>      <th>  R-squared:         </th> <td>   0.892</td> \n",
       "</tr>\n",
       "<tr>\n",
       "  <th>Model:</th>                   <td>OLS</td>       <th>  Adj. R-squared:    </th> <td>   0.890</td> \n",
       "</tr>\n",
       "<tr>\n",
       "  <th>Method:</th>             <td>Least Squares</td>  <th>  F-statistic:       </th> <td>   740.3</td> \n",
       "</tr>\n",
       "<tr>\n",
       "  <th>Date:</th>             <td>Thu, 02 Dec 2021</td> <th>  Prob (F-statistic):</th> <td>6.59e-130</td>\n",
       "</tr>\n",
       "<tr>\n",
       "  <th>Time:</th>                 <td>17:44:18</td>     <th>  Log-Likelihood:    </th> <td> -1923.7</td> \n",
       "</tr>\n",
       "<tr>\n",
       "  <th>No. Observations:</th>      <td>   274</td>      <th>  AIC:               </th> <td>   3855.</td> \n",
       "</tr>\n",
       "<tr>\n",
       "  <th>Df Residuals:</th>          <td>   270</td>      <th>  BIC:               </th> <td>   3870.</td> \n",
       "</tr>\n",
       "<tr>\n",
       "  <th>Df Model:</th>              <td>     3</td>      <th>                     </th>     <td> </td>    \n",
       "</tr>\n",
       "<tr>\n",
       "  <th>Covariance Type:</th>      <td>nonrobust</td>    <th>                     </th>     <td> </td>    \n",
       "</tr>\n",
       "</table>\n",
       "<table class=\"simpletable\">\n",
       "<tr>\n",
       "        <td></td>          <th>coef</th>     <th>std err</th>      <th>t</th>      <th>P>|t|</th>  <th>[0.025</th>    <th>0.975]</th>  \n",
       "</tr>\n",
       "<tr>\n",
       "  <th>const</th>        <td> -184.7263</td> <td>  192.170</td> <td>   -0.961</td> <td> 0.337</td> <td> -563.068</td> <td>  193.616</td>\n",
       "</tr>\n",
       "<tr>\n",
       "  <th>displacement</th> <td>    5.7608</td> <td>    0.368</td> <td>   15.657</td> <td> 0.000</td> <td>    5.036</td> <td>    6.485</td>\n",
       "</tr>\n",
       "<tr>\n",
       "  <th>horsepower</th>   <td>    8.4720</td> <td>    1.186</td> <td>    7.146</td> <td> 0.000</td> <td>    6.138</td> <td>   10.806</td>\n",
       "</tr>\n",
       "<tr>\n",
       "  <th>acceleration</th> <td>   74.0795</td> <td>    8.537</td> <td>    8.677</td> <td> 0.000</td> <td>   57.272</td> <td>   90.887</td>\n",
       "</tr>\n",
       "</table>\n",
       "<table class=\"simpletable\">\n",
       "<tr>\n",
       "  <th>Omnibus:</th>       <td>106.940</td> <th>  Durbin-Watson:     </th> <td>   1.944</td> \n",
       "</tr>\n",
       "<tr>\n",
       "  <th>Prob(Omnibus):</th> <td> 0.000</td>  <th>  Jarque-Bera (JB):  </th> <td>1147.157</td> \n",
       "</tr>\n",
       "<tr>\n",
       "  <th>Skew:</th>          <td>-1.240</td>  <th>  Prob(JB):          </th> <td>7.91e-250</td>\n",
       "</tr>\n",
       "<tr>\n",
       "  <th>Kurtosis:</th>      <td>12.712</td>  <th>  Cond. No.          </th> <td>2.85e+03</td> \n",
       "</tr>\n",
       "</table><br/><br/>Notes:<br/>[1] Standard Errors assume that the covariance matrix of the errors is correctly specified.<br/>[2] The condition number is large, 2.85e+03. This might indicate that there are<br/>strong multicollinearity or other numerical problems."
      ],
      "text/plain": [
       "<class 'statsmodels.iolib.summary.Summary'>\n",
       "\"\"\"\n",
       "                            OLS Regression Results                            \n",
       "==============================================================================\n",
       "Dep. Variable:                 weight   R-squared:                       0.892\n",
       "Model:                            OLS   Adj. R-squared:                  0.890\n",
       "Method:                 Least Squares   F-statistic:                     740.3\n",
       "Date:                Thu, 02 Dec 2021   Prob (F-statistic):          6.59e-130\n",
       "Time:                        17:44:18   Log-Likelihood:                -1923.7\n",
       "No. Observations:                 274   AIC:                             3855.\n",
       "Df Residuals:                     270   BIC:                             3870.\n",
       "Df Model:                           3                                         \n",
       "Covariance Type:            nonrobust                                         \n",
       "================================================================================\n",
       "                   coef    std err          t      P>|t|      [0.025      0.975]\n",
       "--------------------------------------------------------------------------------\n",
       "const         -184.7263    192.170     -0.961      0.337    -563.068     193.616\n",
       "displacement     5.7608      0.368     15.657      0.000       5.036       6.485\n",
       "horsepower       8.4720      1.186      7.146      0.000       6.138      10.806\n",
       "acceleration    74.0795      8.537      8.677      0.000      57.272      90.887\n",
       "==============================================================================\n",
       "Omnibus:                      106.940   Durbin-Watson:                   1.944\n",
       "Prob(Omnibus):                  0.000   Jarque-Bera (JB):             1147.157\n",
       "Skew:                          -1.240   Prob(JB):                    7.91e-250\n",
       "Kurtosis:                      12.712   Cond. No.                     2.85e+03\n",
       "==============================================================================\n",
       "\n",
       "Notes:\n",
       "[1] Standard Errors assume that the covariance matrix of the errors is correctly specified.\n",
       "[2] The condition number is large, 2.85e+03. This might indicate that there are\n",
       "strong multicollinearity or other numerical problems.\n",
       "\"\"\""
      ]
     },
     "execution_count": 110,
     "metadata": {},
     "output_type": "execute_result"
    }
   ],
   "source": [
    "sm.OLS(y2train,sm.add_constant(x2train)).fit().summary()"
   ]
  },
  {
   "cell_type": "code",
   "execution_count": null,
   "id": "e57ae3b8",
   "metadata": {},
   "outputs": [],
   "source": []
  }
 ],
 "metadata": {
  "kernelspec": {
   "display_name": "Python 3",
   "language": "python",
   "name": "python3"
  },
  "language_info": {
   "codemirror_mode": {
    "name": "ipython",
    "version": 3
   },
   "file_extension": ".py",
   "mimetype": "text/x-python",
   "name": "python",
   "nbconvert_exporter": "python",
   "pygments_lexer": "ipython3",
   "version": "3.8.8"
  }
 },
 "nbformat": 4,
 "nbformat_minor": 5
}
